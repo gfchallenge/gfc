{
 "cells": [
  {
   "cell_type": "markdown",
   "metadata": {},
   "source": [
    "## Terms for Use\n",
    "Solvers are responsible for complying with all terms of use for the data sources they access.  All code in this document is provided using the [CC0 1.0 Universal (CC0 1.0) Public Domain Dedication](https://creativecommons.org/publicdomain/zero/1.0/).  The examples have been tested using Python 3 but have not been tested under Python 2.  Note that data providers may have changed their APIs or data formats after this notebook was published.\n",
    "\n",
    "### Boring Details\n",
    "The code cells below set up the notebook environment and load necessary libraries"
   ]
  },
  {
   "cell_type": "code",
   "execution_count": 1,
   "metadata": {},
   "outputs": [],
   "source": [
    "%matplotlib inline"
   ]
  },
  {
   "cell_type": "code",
   "execution_count": 2,
   "metadata": {},
   "outputs": [],
   "source": [
    "import matplotlib\n",
    "matplotlib.style.use(\"seaborn-dark\")\n",
    "import os\n",
    "import json\n",
    "import re\n",
    "from pprint import pprint\n",
    "import numpy as np\n",
    "import pandas as pd\n",
    "from dateutil.parser import parse # To convert strings to timestamps\n",
    "import warnings\n",
    "import urllib3\n",
    "http = urllib3.PoolManager()\n",
    "GFC_HOME = os.path.abspath(\"../../..\")\n",
    "auth_file_path = os.path.join(GFC_HOME, \"src\", \"resources\", \"auth.json\")\n",
    "with open(os.path.join(GFC_HOME, auth_file_path), \"r\") as f:\n",
    "    api_key_dict = json.load(f)\n",
    "data_path = os.path.join(GFC_HOME, \"data\")"
   ]
  },
  {
   "cell_type": "markdown",
   "metadata": {},
   "source": [
    "## [Quandl](https://www.quandl.com)\n",
    "\n",
    "Quandl provides a large number of time series for financial data.  A great deal of this content is free while other content requires paid premium access.  The examples here will only address the free data.\n",
    "\n",
    "Programmatic access to Quandl's API is available for Python, R, and Excel but requires a free API key.  See the [Quandl API documentation](https://docs.quandl.com) for details on obtaining this key and other API documentation.  To use your API key just issue a simple command\n",
    "\n",
    "`quandl.ApiConfig.api_key = \"YOURAPIKEY\"`, replacing `YOURAPIKEY` with your actual key.\n",
    "\n",
    "In the notebook below we assume that you have installed the `quandl` package."
   ]
  },
  {
   "cell_type": "code",
   "execution_count": 18,
   "metadata": {},
   "outputs": [],
   "source": [
    "QUANDL_KEY = api_key_dict[\"quandl\"]"
   ]
  },
  {
   "cell_type": "code",
   "execution_count": 19,
   "metadata": {},
   "outputs": [],
   "source": [
    "import quandl\n",
    "quandl.ApiConfig.api_key = QUANDL_KEY"
   ]
  },
  {
   "cell_type": "markdown",
   "metadata": {},
   "source": [
    "The basic statement to access data is `quandl.get(\"QUANDL_CODE\")`, where `QUANDL_CODE` is Quandl's identifier for the time series and can be found by searching https://www.quandl.com/search"
   ]
  },
  {
   "cell_type": "markdown",
   "metadata": {},
   "source": [
    "### Example: Gold Prices\n",
    "\n",
    "GF Challenge 1 had IFPs related to predicting the future price of gold from the London Bullion Market Association..  In this example we will show the use of the Quandl API to get the historical price of that time series.  The Quandl identifier is `LBMA/GOLD`.  Let's retrieve and examine the tail of the data."
   ]
  },
  {
   "cell_type": "code",
   "execution_count": 20,
   "metadata": {},
   "outputs": [
    {
     "data": {
      "text/html": [
       "<div>\n",
       "<style>\n",
       "    .dataframe thead tr:only-child th {\n",
       "        text-align: right;\n",
       "    }\n",
       "\n",
       "    .dataframe thead th {\n",
       "        text-align: left;\n",
       "    }\n",
       "\n",
       "    .dataframe tbody tr th {\n",
       "        vertical-align: top;\n",
       "    }\n",
       "</style>\n",
       "<table border=\"1\" class=\"dataframe\">\n",
       "  <thead>\n",
       "    <tr style=\"text-align: right;\">\n",
       "      <th></th>\n",
       "      <th>USD (AM)</th>\n",
       "      <th>USD (PM)</th>\n",
       "      <th>GBP (AM)</th>\n",
       "      <th>GBP (PM)</th>\n",
       "      <th>EURO (AM)</th>\n",
       "      <th>EURO (PM)</th>\n",
       "    </tr>\n",
       "    <tr>\n",
       "      <th>Date</th>\n",
       "      <th></th>\n",
       "      <th></th>\n",
       "      <th></th>\n",
       "      <th></th>\n",
       "      <th></th>\n",
       "      <th></th>\n",
       "    </tr>\n",
       "  </thead>\n",
       "  <tbody>\n",
       "    <tr>\n",
       "      <th>2019-04-02</th>\n",
       "      <td>1287.20</td>\n",
       "      <td>1290.30</td>\n",
       "      <td>984.97</td>\n",
       "      <td>988.37</td>\n",
       "      <td>1148.95</td>\n",
       "      <td>1151.59</td>\n",
       "    </tr>\n",
       "    <tr>\n",
       "      <th>2019-04-03</th>\n",
       "      <td>1291.85</td>\n",
       "      <td>1290.45</td>\n",
       "      <td>980.38</td>\n",
       "      <td>981.26</td>\n",
       "      <td>1148.84</td>\n",
       "      <td>1147.98</td>\n",
       "    </tr>\n",
       "    <tr>\n",
       "      <th>2019-04-04</th>\n",
       "      <td>1291.60</td>\n",
       "      <td>1283.15</td>\n",
       "      <td>981.87</td>\n",
       "      <td>978.66</td>\n",
       "      <td>1149.78</td>\n",
       "      <td>1144.18</td>\n",
       "    </tr>\n",
       "    <tr>\n",
       "      <th>2019-04-05</th>\n",
       "      <td>1288.90</td>\n",
       "      <td>1288.45</td>\n",
       "      <td>985.11</td>\n",
       "      <td>989.53</td>\n",
       "      <td>1147.51</td>\n",
       "      <td>1148.01</td>\n",
       "    </tr>\n",
       "    <tr>\n",
       "      <th>2019-04-08</th>\n",
       "      <td>1297.10</td>\n",
       "      <td>1300.00</td>\n",
       "      <td>993.58</td>\n",
       "      <td>996.45</td>\n",
       "      <td>1154.29</td>\n",
       "      <td>1153.49</td>\n",
       "    </tr>\n",
       "  </tbody>\n",
       "</table>\n",
       "</div>"
      ],
      "text/plain": [
       "            USD (AM)  USD (PM)  GBP (AM)  GBP (PM)  EURO (AM)  EURO (PM)\n",
       "Date                                                                    \n",
       "2019-04-02   1287.20   1290.30    984.97    988.37    1148.95    1151.59\n",
       "2019-04-03   1291.85   1290.45    980.38    981.26    1148.84    1147.98\n",
       "2019-04-04   1291.60   1283.15    981.87    978.66    1149.78    1144.18\n",
       "2019-04-05   1288.90   1288.45    985.11    989.53    1147.51    1148.01\n",
       "2019-04-08   1297.10   1300.00    993.58    996.45    1154.29    1153.49"
      ]
     },
     "execution_count": 20,
     "metadata": {},
     "output_type": "execute_result"
    }
   ],
   "source": [
    "gold = quandl.get(\"LBMA/GOLD\")\n",
    "gold.tail()"
   ]
  },
  {
   "cell_type": "markdown",
   "metadata": {},
   "source": [
    "The returned value is a pandas Data Frame object with 6 columns.  In previous IFPs the resolution time series was the column `USD (PM)`.  Let's look at a plot of this series."
   ]
  },
  {
   "cell_type": "code",
   "execution_count": 10,
   "metadata": {},
   "outputs": [
    {
     "data": {
      "image/png": "[encoded data removed]",
      "text/plain": [
       "<matplotlib.figure.Figure at 0x103557518>"
      ]
     },
     "metadata": {},
     "output_type": "display_data"
    }
   ],
   "source": [
    "gold[\"USD (PM)\"].plot(figsize=(12, 5), title=\"Historical Price of Gold, LBMA USD (PM)\");"
   ]
  },
  {
   "cell_type": "markdown",
   "metadata": {},
   "source": [
    "Now that the data is in a time series you can try any number of time series techniques such as ARIMA models or Recurrent Neural Networks."
   ]
  }
 ],
 "metadata": {
  "kernelspec": {
   "display_name": "Python 3",
   "language": "python",
   "name": "python3"
  },
  "language_info": {
   "codemirror_mode": {
    "name": "ipython",
    "version": 3
   },
   "file_extension": ".py",
   "mimetype": "text/x-python",
   "name": "python",
   "nbconvert_exporter": "python",
   "pygments_lexer": "ipython3",
   "version": "3.5.2"
  }
 },
 "nbformat": 4,
 "nbformat_minor": 2
}
