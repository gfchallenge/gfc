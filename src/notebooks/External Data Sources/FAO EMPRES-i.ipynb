{
 "cells": [
  {
   "cell_type": "markdown",
   "metadata": {},
   "source": [
    "## Terms for Use\n",
    "Solvers are responsible for complying with all terms of use for the data sources they access.  All code in this document is provided using the [CC0 1.0 Universal (CC0 1.0) Public Domain Dedication](https://creativecommons.org/publicdomain/zero/1.0/).  The examples have been tested using Python 3 but have not been tested under Python 2.  Note that data providers may have changed their APIs or data formats after this notebook was published.\n",
    "\n",
    "### Boring Details\n",
    "The code cells below set up the notebook environment and load necessary libraries"
   ]
  },
  {
   "cell_type": "code",
   "execution_count": 1,
   "metadata": {},
   "outputs": [],
   "source": [
    "%matplotlib inline"
   ]
  },
  {
   "cell_type": "code",
   "execution_count": 2,
   "metadata": {},
   "outputs": [],
   "source": [
    "import matplotlib\n",
    "matplotlib.style.use(\"seaborn-dark\")\n",
    "import os\n",
    "\n",
    "import pandas as pd\n",
    "from dateutil.parser import parse # To convert strings to timestamps\n",
    "GFC_HOME = os.path.abspath(\"../../..\")\n",
    "data_path = os.path.join(GFC_HOME, \"data\")"
   ]
  },
  {
   "cell_type": "markdown",
   "metadata": {},
   "source": [
    "## [EMPRES](http://empres-i.fao.org/eipws3g/)\n",
    "\n",
    "The Food and Agricultural Organization of the UN provides the EMPRES database, which is described by them:\n",
    "\n",
    "EMPRES Global Animal Disease Information System (EMPRES-i) is a web-based application that has been designed to support veterinary services by facilitating the organization and access to regional and global disease information. Timely and reliable disease informa¬tion enhances early warning and response to transboundary and high impact animal diseases, including emergent zoonoses, and supports prevention, improved management and progressive approach to control.\n",
    "\n",
    "### Example: African Swine Fever Cases in Ukraine\n",
    "Although there is an all-purpose API for FAO it is probably easier to make selections on the main page and download a CSV of disease data.  The example below will walk through data downloaded on 18 April 2019.\n",
    "\n",
    "First, we load the data into pandas and look at the columns."
   ]
  },
  {
   "cell_type": "code",
   "execution_count": 3,
   "metadata": {},
   "outputs": [
    {
     "name": "stdout",
     "output_type": "stream",
     "text": [
      "Index(['Id', 'source', 'latitude', 'longitude', 'region', 'country', 'admin1',\n",
      "       'localityName', 'localityQuality', 'observationDate', 'reportingDate',\n",
      "       'status', 'disease', 'serotypes', 'speciesDescription', 'sumAtRisk',\n",
      "       'sumCases', 'sumDeaths', 'sumDestroyed', 'sumSlaughtered',\n",
      "       'humansGenderDesc', 'humansAge', 'humansAffected', 'humansDeaths'],\n",
      "      dtype='object')\n"
     ]
    },
    {
     "data": {
      "text/html": [
       "<div>\n",
       "<style>\n",
       "    .dataframe thead tr:only-child th {\n",
       "        text-align: right;\n",
       "    }\n",
       "\n",
       "    .dataframe thead th {\n",
       "        text-align: left;\n",
       "    }\n",
       "\n",
       "    .dataframe tbody tr th {\n",
       "        vertical-align: top;\n",
       "    }\n",
       "</style>\n",
       "<table border=\"1\" class=\"dataframe\">\n",
       "  <thead>\n",
       "    <tr style=\"text-align: right;\">\n",
       "      <th></th>\n",
       "      <th>Id</th>\n",
       "      <th>source</th>\n",
       "      <th>latitude</th>\n",
       "      <th>longitude</th>\n",
       "      <th>region</th>\n",
       "      <th>country</th>\n",
       "      <th>admin1</th>\n",
       "      <th>localityName</th>\n",
       "      <th>localityQuality</th>\n",
       "      <th>observationDate</th>\n",
       "      <th>...</th>\n",
       "      <th>speciesDescription</th>\n",
       "      <th>sumAtRisk</th>\n",
       "      <th>sumCases</th>\n",
       "      <th>sumDeaths</th>\n",
       "      <th>sumDestroyed</th>\n",
       "      <th>sumSlaughtered</th>\n",
       "      <th>humansGenderDesc</th>\n",
       "      <th>humansAge</th>\n",
       "      <th>humansAffected</th>\n",
       "      <th>humansDeaths</th>\n",
       "    </tr>\n",
       "  </thead>\n",
       "  <tbody>\n",
       "    <tr>\n",
       "      <th>0</th>\n",
       "      <td>251603</td>\n",
       "      <td>OIE</td>\n",
       "      <td>-26.0000</td>\n",
       "      <td>28.7000</td>\n",
       "      <td>Africa</td>\n",
       "      <td>South Africa</td>\n",
       "      <td>Mpumalanga</td>\n",
       "      <td>ASF_MPU_2019_001, Victor Kanye</td>\n",
       "      <td>Exact</td>\n",
       "      <td>15/04/2019</td>\n",
       "      <td>...</td>\n",
       "      <td>domestic, swine</td>\n",
       "      <td>155.0</td>\n",
       "      <td>39.0</td>\n",
       "      <td>30.0</td>\n",
       "      <td>0.0</td>\n",
       "      <td>0.0</td>\n",
       "      <td>NaN</td>\n",
       "      <td>0.0</td>\n",
       "      <td>NaN</td>\n",
       "      <td>NaN</td>\n",
       "    </tr>\n",
       "    <tr>\n",
       "      <th>1</th>\n",
       "      <td>251605</td>\n",
       "      <td>OIE</td>\n",
       "      <td>48.4011</td>\n",
       "      <td>30.0663</td>\n",
       "      <td>Europe</td>\n",
       "      <td>Ukraine</td>\n",
       "      <td>Kirovohrads'ka</td>\n",
       "      <td>Berestiahy</td>\n",
       "      <td>Exact</td>\n",
       "      <td>14/04/2019</td>\n",
       "      <td>...</td>\n",
       "      <td>wild, wild boar</td>\n",
       "      <td>NaN</td>\n",
       "      <td>1.0</td>\n",
       "      <td>1.0</td>\n",
       "      <td>0.0</td>\n",
       "      <td>NaN</td>\n",
       "      <td>NaN</td>\n",
       "      <td>0.0</td>\n",
       "      <td>NaN</td>\n",
       "      <td>NaN</td>\n",
       "    </tr>\n",
       "    <tr>\n",
       "      <th>2</th>\n",
       "      <td>251525</td>\n",
       "      <td>OIE</td>\n",
       "      <td>49.6299</td>\n",
       "      <td>5.4270</td>\n",
       "      <td>Europe</td>\n",
       "      <td>Belgium</td>\n",
       "      <td>Region wallonne</td>\n",
       "      <td>Meix-devant-Virton</td>\n",
       "      <td>Exact</td>\n",
       "      <td>11/04/2019</td>\n",
       "      <td>...</td>\n",
       "      <td>wild, wild boar</td>\n",
       "      <td>NaN</td>\n",
       "      <td>1.0</td>\n",
       "      <td>0.0</td>\n",
       "      <td>1.0</td>\n",
       "      <td>NaN</td>\n",
       "      <td>NaN</td>\n",
       "      <td>NaN</td>\n",
       "      <td>NaN</td>\n",
       "      <td>NaN</td>\n",
       "    </tr>\n",
       "    <tr>\n",
       "      <th>3</th>\n",
       "      <td>251524</td>\n",
       "      <td>OIE</td>\n",
       "      <td>49.6825</td>\n",
       "      <td>5.5533</td>\n",
       "      <td>Europe</td>\n",
       "      <td>Belgium</td>\n",
       "      <td>Region wallonne</td>\n",
       "      <td>Tintigny</td>\n",
       "      <td>Exact</td>\n",
       "      <td>11/04/2019</td>\n",
       "      <td>...</td>\n",
       "      <td>wild, wild boar</td>\n",
       "      <td>NaN</td>\n",
       "      <td>1.0</td>\n",
       "      <td>1.0</td>\n",
       "      <td>0.0</td>\n",
       "      <td>NaN</td>\n",
       "      <td>NaN</td>\n",
       "      <td>NaN</td>\n",
       "      <td>NaN</td>\n",
       "      <td>NaN</td>\n",
       "    </tr>\n",
       "    <tr>\n",
       "      <th>4</th>\n",
       "      <td>251523</td>\n",
       "      <td>OIE</td>\n",
       "      <td>49.6827</td>\n",
       "      <td>5.5529</td>\n",
       "      <td>Europe</td>\n",
       "      <td>Belgium</td>\n",
       "      <td>Region wallonne</td>\n",
       "      <td>Tintigny</td>\n",
       "      <td>Exact</td>\n",
       "      <td>11/04/2019</td>\n",
       "      <td>...</td>\n",
       "      <td>wild, wild boar</td>\n",
       "      <td>NaN</td>\n",
       "      <td>1.0</td>\n",
       "      <td>1.0</td>\n",
       "      <td>0.0</td>\n",
       "      <td>NaN</td>\n",
       "      <td>NaN</td>\n",
       "      <td>NaN</td>\n",
       "      <td>NaN</td>\n",
       "      <td>NaN</td>\n",
       "    </tr>\n",
       "  </tbody>\n",
       "</table>\n",
       "<p>5 rows × 24 columns</p>\n",
       "</div>"
      ],
      "text/plain": [
       "       Id source  latitude  longitude  region       country           admin1  \\\n",
       "0  251603    OIE  -26.0000    28.7000  Africa  South Africa       Mpumalanga   \n",
       "1  251605    OIE   48.4011    30.0663  Europe       Ukraine   Kirovohrads'ka   \n",
       "2  251525    OIE   49.6299     5.4270  Europe       Belgium  Region wallonne   \n",
       "3  251524    OIE   49.6825     5.5533  Europe       Belgium  Region wallonne   \n",
       "4  251523    OIE   49.6827     5.5529  Europe       Belgium  Region wallonne   \n",
       "\n",
       "                      localityName localityQuality observationDate  \\\n",
       "0  ASF_MPU_2019_001, Victor Kanye            Exact      15/04/2019   \n",
       "1                       Berestiahy           Exact      14/04/2019   \n",
       "2               Meix-devant-Virton           Exact      11/04/2019   \n",
       "3                         Tintigny           Exact      11/04/2019   \n",
       "4                         Tintigny           Exact      11/04/2019   \n",
       "\n",
       "       ...      speciesDescription sumAtRisk sumCases  sumDeaths sumDestroyed  \\\n",
       "0      ...         domestic, swine     155.0     39.0       30.0          0.0   \n",
       "1      ...         wild, wild boar       NaN      1.0        1.0          0.0   \n",
       "2      ...         wild, wild boar       NaN      1.0        0.0          1.0   \n",
       "3      ...         wild, wild boar       NaN      1.0        1.0          0.0   \n",
       "4      ...         wild, wild boar       NaN      1.0        1.0          0.0   \n",
       "\n",
       "   sumSlaughtered  humansGenderDesc  humansAge  humansAffected  humansDeaths  \n",
       "0             0.0               NaN        0.0             NaN           NaN  \n",
       "1             NaN               NaN        0.0             NaN           NaN  \n",
       "2             NaN               NaN        NaN             NaN           NaN  \n",
       "3             NaN               NaN        NaN             NaN           NaN  \n",
       "4             NaN               NaN        NaN             NaN           NaN  \n",
       "\n",
       "[5 rows x 24 columns]"
      ]
     },
     "execution_count": 3,
     "metadata": {},
     "output_type": "execute_result"
    }
   ],
   "source": [
    "empres_path = os.path.join(data_path, \"EMPRES-i\")\n",
    "_filename = \"Outbreak_list3030596102894508780.csv\"\n",
    "_path = os.path.join(empres_path, _filename)\n",
    "outbreak_df = pd.read_csv(_path)\n",
    "print(outbreak_df.columns)\n",
    "outbreak_df.head()"
   ]
  },
  {
   "cell_type": "markdown",
   "metadata": {},
   "source": [
    "Assuming that our objective is to get counts by time interval we can focus on a few columns:  `Id`, `country`, `observationDate`, `reportingDate`, `status`, `disease`, `sumCases`, `sumDeaths`.  We will also filter the data frame so that we only have events from Ukraine."
   ]
  },
  {
   "cell_type": "code",
   "execution_count": 4,
   "metadata": {},
   "outputs": [
    {
     "name": "stdout",
     "output_type": "stream",
     "text": [
      "There are 114 rows of data\n"
     ]
    },
    {
     "data": {
      "text/html": [
       "<div>\n",
       "<style>\n",
       "    .dataframe thead tr:only-child th {\n",
       "        text-align: right;\n",
       "    }\n",
       "\n",
       "    .dataframe thead th {\n",
       "        text-align: left;\n",
       "    }\n",
       "\n",
       "    .dataframe tbody tr th {\n",
       "        vertical-align: top;\n",
       "    }\n",
       "</style>\n",
       "<table border=\"1\" class=\"dataframe\">\n",
       "  <thead>\n",
       "    <tr style=\"text-align: right;\">\n",
       "      <th></th>\n",
       "      <th>Id</th>\n",
       "      <th>country</th>\n",
       "      <th>observationDate</th>\n",
       "      <th>reportingDate</th>\n",
       "      <th>status</th>\n",
       "      <th>disease</th>\n",
       "      <th>sumCases</th>\n",
       "      <th>sumDeaths</th>\n",
       "    </tr>\n",
       "  </thead>\n",
       "  <tbody>\n",
       "    <tr>\n",
       "      <th>1</th>\n",
       "      <td>251605</td>\n",
       "      <td>Ukraine</td>\n",
       "      <td>14/04/2019</td>\n",
       "      <td>18/04/2019</td>\n",
       "      <td>Confirmed</td>\n",
       "      <td>African swine fever</td>\n",
       "      <td>1.0</td>\n",
       "      <td>1.0</td>\n",
       "    </tr>\n",
       "    <tr>\n",
       "      <th>14</th>\n",
       "      <td>250707</td>\n",
       "      <td>Ukraine</td>\n",
       "      <td>09/04/2019</td>\n",
       "      <td>10/04/2019</td>\n",
       "      <td>Confirmed</td>\n",
       "      <td>African swine fever</td>\n",
       "      <td>4.0</td>\n",
       "      <td>4.0</td>\n",
       "    </tr>\n",
       "    <tr>\n",
       "      <th>23</th>\n",
       "      <td>250706</td>\n",
       "      <td>Ukraine</td>\n",
       "      <td>06/04/2019</td>\n",
       "      <td>09/04/2019</td>\n",
       "      <td>Confirmed</td>\n",
       "      <td>African swine fever</td>\n",
       "      <td>2.0</td>\n",
       "      <td>2.0</td>\n",
       "    </tr>\n",
       "    <tr>\n",
       "      <th>29</th>\n",
       "      <td>250698</td>\n",
       "      <td>Ukraine</td>\n",
       "      <td>03/04/2019</td>\n",
       "      <td>08/04/2019</td>\n",
       "      <td>Confirmed</td>\n",
       "      <td>African swine fever</td>\n",
       "      <td>2.0</td>\n",
       "      <td>2.0</td>\n",
       "    </tr>\n",
       "    <tr>\n",
       "      <th>67</th>\n",
       "      <td>249935</td>\n",
       "      <td>Ukraine</td>\n",
       "      <td>26/03/2019</td>\n",
       "      <td>28/03/2019</td>\n",
       "      <td>Confirmed</td>\n",
       "      <td>African swine fever</td>\n",
       "      <td>3.0</td>\n",
       "      <td>3.0</td>\n",
       "    </tr>\n",
       "  </tbody>\n",
       "</table>\n",
       "</div>"
      ],
      "text/plain": [
       "        Id  country observationDate reportingDate     status  \\\n",
       "1   251605  Ukraine      14/04/2019    18/04/2019  Confirmed   \n",
       "14  250707  Ukraine      09/04/2019    10/04/2019  Confirmed   \n",
       "23  250706  Ukraine      06/04/2019    09/04/2019  Confirmed   \n",
       "29  250698  Ukraine      03/04/2019    08/04/2019  Confirmed   \n",
       "67  249935  Ukraine      26/03/2019    28/03/2019  Confirmed   \n",
       "\n",
       "                disease  sumCases  sumDeaths  \n",
       "1   African swine fever       1.0        1.0  \n",
       "14  African swine fever       4.0        4.0  \n",
       "23  African swine fever       2.0        2.0  \n",
       "29  African swine fever       2.0        2.0  \n",
       "67  African swine fever       3.0        3.0  "
      ]
     },
     "execution_count": 4,
     "metadata": {},
     "output_type": "execute_result"
    }
   ],
   "source": [
    "USE_COLS = [\"Id\", \"country\", \"observationDate\", \"reportingDate\", \"status\", \"disease\",\n",
    "            \"sumCases\", \"sumDeaths\"]\n",
    "outbreak_df = outbreak_df[USE_COLS]\n",
    "outbreak_df = outbreak_df[outbreak_df[\"country\"] == \"Ukraine\"]\n",
    "print(\"There are {} rows of data\".format(len(outbreak_df)))\n",
    "outbreak_df.head()"
   ]
  },
  {
   "cell_type": "markdown",
   "metadata": {},
   "source": [
    "Note that the `observationDate` and `reportingDate` columns seem to be in the format dd/mm/yyyy.  We'd like to convert them to datetime objects using the `parse` function with `dayfirst=True` argument:"
   ]
  },
  {
   "cell_type": "code",
   "execution_count": 5,
   "metadata": {},
   "outputs": [
    {
     "data": {
      "text/html": [
       "<div>\n",
       "<style>\n",
       "    .dataframe thead tr:only-child th {\n",
       "        text-align: right;\n",
       "    }\n",
       "\n",
       "    .dataframe thead th {\n",
       "        text-align: left;\n",
       "    }\n",
       "\n",
       "    .dataframe tbody tr th {\n",
       "        vertical-align: top;\n",
       "    }\n",
       "</style>\n",
       "<table border=\"1\" class=\"dataframe\">\n",
       "  <thead>\n",
       "    <tr style=\"text-align: right;\">\n",
       "      <th></th>\n",
       "      <th>Id</th>\n",
       "      <th>country</th>\n",
       "      <th>observationDate</th>\n",
       "      <th>reportingDate</th>\n",
       "      <th>status</th>\n",
       "      <th>disease</th>\n",
       "      <th>sumCases</th>\n",
       "      <th>sumDeaths</th>\n",
       "    </tr>\n",
       "  </thead>\n",
       "  <tbody>\n",
       "    <tr>\n",
       "      <th>1</th>\n",
       "      <td>251605</td>\n",
       "      <td>Ukraine</td>\n",
       "      <td>2019-04-14</td>\n",
       "      <td>2019-04-18</td>\n",
       "      <td>Confirmed</td>\n",
       "      <td>African swine fever</td>\n",
       "      <td>1.0</td>\n",
       "      <td>1.0</td>\n",
       "    </tr>\n",
       "    <tr>\n",
       "      <th>14</th>\n",
       "      <td>250707</td>\n",
       "      <td>Ukraine</td>\n",
       "      <td>2019-04-09</td>\n",
       "      <td>2019-04-10</td>\n",
       "      <td>Confirmed</td>\n",
       "      <td>African swine fever</td>\n",
       "      <td>4.0</td>\n",
       "      <td>4.0</td>\n",
       "    </tr>\n",
       "    <tr>\n",
       "      <th>23</th>\n",
       "      <td>250706</td>\n",
       "      <td>Ukraine</td>\n",
       "      <td>2019-04-06</td>\n",
       "      <td>2019-04-09</td>\n",
       "      <td>Confirmed</td>\n",
       "      <td>African swine fever</td>\n",
       "      <td>2.0</td>\n",
       "      <td>2.0</td>\n",
       "    </tr>\n",
       "    <tr>\n",
       "      <th>29</th>\n",
       "      <td>250698</td>\n",
       "      <td>Ukraine</td>\n",
       "      <td>2019-04-03</td>\n",
       "      <td>2019-04-08</td>\n",
       "      <td>Confirmed</td>\n",
       "      <td>African swine fever</td>\n",
       "      <td>2.0</td>\n",
       "      <td>2.0</td>\n",
       "    </tr>\n",
       "    <tr>\n",
       "      <th>67</th>\n",
       "      <td>249935</td>\n",
       "      <td>Ukraine</td>\n",
       "      <td>2019-03-26</td>\n",
       "      <td>2019-03-28</td>\n",
       "      <td>Confirmed</td>\n",
       "      <td>African swine fever</td>\n",
       "      <td>3.0</td>\n",
       "      <td>3.0</td>\n",
       "    </tr>\n",
       "  </tbody>\n",
       "</table>\n",
       "</div>"
      ],
      "text/plain": [
       "        Id  country observationDate reportingDate     status  \\\n",
       "1   251605  Ukraine      2019-04-14    2019-04-18  Confirmed   \n",
       "14  250707  Ukraine      2019-04-09    2019-04-10  Confirmed   \n",
       "23  250706  Ukraine      2019-04-06    2019-04-09  Confirmed   \n",
       "29  250698  Ukraine      2019-04-03    2019-04-08  Confirmed   \n",
       "67  249935  Ukraine      2019-03-26    2019-03-28  Confirmed   \n",
       "\n",
       "                disease  sumCases  sumDeaths  \n",
       "1   African swine fever       1.0        1.0  \n",
       "14  African swine fever       4.0        4.0  \n",
       "23  African swine fever       2.0        2.0  \n",
       "29  African swine fever       2.0        2.0  \n",
       "67  African swine fever       3.0        3.0  "
      ]
     },
     "execution_count": 5,
     "metadata": {},
     "output_type": "execute_result"
    }
   ],
   "source": [
    "for col in [\"observationDate\", \"reportingDate\"]:\n",
    "    outbreak_df[col] = outbreak_df[col].apply(parse, dayfirst=True)\n",
    "outbreak_df.head()"
   ]
  },
  {
   "cell_type": "markdown",
   "metadata": {},
   "source": [
    "Notice that there's a several day difference between observation and reporting.  Let's look at the distribution of this reporting lag:"
   ]
  },
  {
   "cell_type": "code",
   "execution_count": 6,
   "metadata": {},
   "outputs": [
    {
     "name": "stdout",
     "output_type": "stream",
     "text": [
      "count    114.000000\n",
      "mean       4.692982\n",
      "std        3.805276\n",
      "min        0.000000\n",
      "25%        2.000000\n",
      "50%        4.000000\n",
      "75%        5.000000\n",
      "max       19.000000\n",
      "Name: reportingLag, dtype: float64\n"
     ]
    },
    {
     "data": {
      "text/plain": [
       "<matplotlib.axes._subplots.AxesSubplot at 0x1205c0ac8>"
      ]
     },
     "execution_count": 6,
     "metadata": {},
     "output_type": "execute_result"
    },
    {
     "data": {
      "image/png": "[encoded data removed]",
      "text/plain": [
       "<matplotlib.figure.Figure at 0x101f30780>"
      ]
     },
     "metadata": {},
     "output_type": "display_data"
    }
   ],
   "source": [
    "outbreak_df[\"reportingLag\"] = (outbreak_df[\"reportingDate\"] - outbreak_df[\"observationDate\"]).apply(lambda x: x.days)\n",
    "print(outbreak_df[\"reportingLag\"].describe())\n",
    "outbreak_df[\"reportingLag\"].plot(kind=\"hist\")"
   ]
  },
  {
   "cell_type": "markdown",
   "metadata": {},
   "source": [
    "The median reporting lag is 4 days, with a minimum of 0 and a maximum of 19 days."
   ]
  },
  {
   "cell_type": "markdown",
   "metadata": {},
   "source": [
    "Now lets look at the number of cases by day"
   ]
  },
  {
   "cell_type": "code",
   "execution_count": 7,
   "metadata": {},
   "outputs": [
    {
     "data": {
      "text/plain": [
       "<matplotlib.axes._subplots.AxesSubplot at 0x120f8cd68>"
      ]
     },
     "execution_count": 7,
     "metadata": {},
     "output_type": "execute_result"
    },
    {
     "data": {
      "image/png": "[encoded data removed]",
      "text/plain": [
       "<matplotlib.figure.Figure at 0x11ea98a20>"
      ]
     },
     "metadata": {},
     "output_type": "display_data"
    }
   ],
   "source": [
    "daily_case_ser = outbreak_df.groupby(\"observationDate\").apply(lambda x: sum(x[\"sumCases\"]))\n",
    "_dr = pd.date_range(outbreak_df[\"observationDate\"].min(), outbreak_df[\"observationDate\"].max())\n",
    "daily_case_ser = daily_case_ser.reindex(_dr).fillna(0)\n",
    "daily_case_ser.plot(figsize=(12, 5), title=\"Daily African Swine Fever Cases, Ukraine\")"
   ]
  },
  {
   "cell_type": "code",
   "execution_count": null,
   "metadata": {},
   "outputs": [],
   "source": []
  }
 ],
 "metadata": {
  "kernelspec": {
   "display_name": "Python 3",
   "language": "python",
   "name": "python3"
  },
  "language_info": {
   "codemirror_mode": {
    "name": "ipython",
    "version": 3
   },
   "file_extension": ".py",
   "mimetype": "text/x-python",
   "name": "python",
   "nbconvert_exporter": "python",
   "pygments_lexer": "ipython3",
   "version": "3.5.2"
  }
 },
 "nbformat": 4,
 "nbformat_minor": 2
}
