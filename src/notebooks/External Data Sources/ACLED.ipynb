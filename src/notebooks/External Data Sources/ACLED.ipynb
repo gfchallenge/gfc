{
 "cells": [
  {
   "cell_type": "markdown",
   "metadata": {},
   "source": [
    "## Terms for Use\n",
    "Solvers are responsible for complying with all terms of use for the data sources they access.  All code in this document is provided using the [CC0 1.0 Universal (CC0 1.0) Public Domain Dedication](https://creativecommons.org/publicdomain/zero/1.0/).  The examples have been tested using Python 3 but have not been tested under Python 2.  Note that data providers may have changed their APIs or data formats after this notebook was published.\n",
    "\n",
    "### Boring Details\n",
    "The code cells below set up the notebook environment and load necessary libraries"
   ]
  },
  {
   "cell_type": "code",
   "execution_count": 1,
   "metadata": {},
   "outputs": [],
   "source": [
    "%matplotlib inline"
   ]
  },
  {
   "cell_type": "code",
   "execution_count": 2,
   "metadata": {},
   "outputs": [],
   "source": [
    "import matplotlib\n",
    "matplotlib.style.use(\"seaborn-dark\")\n",
    "import os\n",
    "import json\n",
    "import re\n",
    "from pprint import pprint\n",
    "import numpy as np\n",
    "import pandas as pd\n",
    "from dateutil.parser import parse # To convert strings to timestamps\n",
    "import warnings\n",
    "import urllib3\n",
    "http = urllib3.PoolManager()\n",
    "GFC_HOME = os.path.abspath(\"../../..\")\n",
    "auth_file_path = os.path.join(GFC_HOME, \"src\", \"resources\", \"auth.json\")\n",
    "with open(os.path.join(GFC_HOME, auth_file_path), \"r\") as f:\n",
    "    api_key_dict = json.load(f)\n",
    "data_path = os.path.join(GFC_HOME, \"data\")"
   ]
  },
  {
   "cell_type": "markdown",
   "metadata": {},
   "source": [
    "## ACLED\n",
    "Armed Conflict Location & Event Data Project (ACLED); acleddata.com\n",
    "\n",
    "ACLED provides an API that is documented at https://www.acleddata.com/wp-content/uploads/dlm_uploads/2017/10/API-User-Guide.pdf.\n",
    "\n",
    "ACLED queries return JSON by default but the user can specify other formats, such as CSV.\n",
    "\n",
    "### Example: ACLED Battle Deaths in Yemen\n",
    "In this example we will retrieve the battle deaths in Yemen for March 2019.  Every query must include the query parameter `terms=accept`.  Other query terms act as filters on what is searched and what is returned.  In our case we will set the country to Yemen, the event_type to Battle, and the dates to the range for March 2019."
   ]
  },
  {
   "cell_type": "code",
   "execution_count": 11,
   "metadata": {},
   "outputs": [
    {
     "name": "stdout",
     "output_type": "stream",
     "text": [
      "Query URL: https://api.acleddata.com/acled/read?terms=accept&country=yemen&event_type=battle&event_date=2019-03-01|2019-03-31&event_date_where=BETWEEN&field=iso|fatalities\n"
     ]
    }
   ],
   "source": [
    "acled_url = \"https://api.acleddata.com/acled/read?terms=accept\"\n",
    "starttime = \"2019-03-01\"\n",
    "endtime = \"2019-03-31\"\n",
    "country = \"yemen\"\n",
    "event_type = \"battle\"\n",
    "query_url = acled_url + \"&country={}\".format(country)\n",
    "query_url += \"&event_type={}\".format(event_type)\n",
    "query_url += \"&event_date={}|{}&event_date_where=BETWEEN\".format(starttime, endtime)\n",
    "query_url += \"&field=iso|fatalities\"\n",
    "#query_url += \"&export_type=csv\"\n",
    "print(\"Query URL: {}\".format(query_url))\n",
    "with warnings.catch_warnings():\n",
    "    warnings.simplefilter(\"ignore\")\n",
    "    r = http.request(\"GET\", query_url)\n",
    "raw_data = r.data.decode()"
   ]
  },
  {
   "cell_type": "markdown",
   "metadata": {},
   "source": [
    "We can try to use the eval command to convert the raw_data to a dict, but...."
   ]
  },
  {
   "cell_type": "code",
   "execution_count": 12,
   "metadata": {},
   "outputs": [
    {
     "name": "stdout",
     "output_type": "stream",
     "text": [
      "NameError(\"name 'true' is not defined\",)\n"
     ]
    }
   ],
   "source": [
    "try:\n",
    "    _data = eval(raw_data)\n",
    "    _data.keys()\n",
    "except NameError as e:\n",
    "    print(repr(e))"
   ]
  },
  {
   "cell_type": "markdown",
   "metadata": {},
   "source": [
    "As with the EIA data we have some values that cause a problem for `eval`.  Let's use regex to fix them"
   ]
  },
  {
   "cell_type": "code",
   "execution_count": 5,
   "metadata": {},
   "outputs": [
    {
     "data": {
      "text/plain": [
       "dict_keys(['success', 'count', 'last_update', 'status', 'filename', 'data'])"
      ]
     },
     "execution_count": 5,
     "metadata": {},
     "output_type": "execute_result"
    }
   ],
   "source": [
    "raw_data = re.sub(\"true\", \"\\\"true\\\"\", raw_data)\n",
    "_data = eval(raw_data)\n",
    "_data.keys()"
   ]
  },
  {
   "cell_type": "markdown",
   "metadata": {},
   "source": [
    "The data that we want is in the field helpfully named `data` and contains a list of dicts, each of which describes an event.  Let's look at an example:"
   ]
  },
  {
   "cell_type": "code",
   "execution_count": 6,
   "metadata": {},
   "outputs": [
    {
     "name": "stdout",
     "output_type": "stream",
     "text": [
      "{'actor1': 'Military Forces of Yemen (2016-) Supreme Political Council',\n",
      " 'actor2': 'National Resistance Forces',\n",
      " 'admin1': 'Al Hudaydah',\n",
      " 'admin2': 'At Tuhayat',\n",
      " 'admin3': '',\n",
      " 'assoc_actor_1': '',\n",
      " 'assoc_actor_2': 'Giants Brigade',\n",
      " 'country': 'Yemen',\n",
      " 'data_id': '5121681',\n",
      " 'event_date': '2019-03-31',\n",
      " 'event_id_cnty': 'YEM30120',\n",
      " 'event_id_no_cnty': '30120',\n",
      " 'event_type': 'Battles',\n",
      " 'fatalities': '0',\n",
      " 'geo_precision': '2',\n",
      " 'inter1': '1',\n",
      " 'inter2': '3',\n",
      " 'interaction': '13',\n",
      " 'iso': '887',\n",
      " 'iso3': 'YEM',\n",
      " 'latitude': '14.1836',\n",
      " 'location': 'At Tuhayta',\n",
      " 'longitude': '43.2264',\n",
      " 'notes': 'Pro-Houthi forces reportedly fired artillery and Howitzer shells, '\n",
      "          'mortars, B-10s, RPGs and snipers at anti-Houthi Giants forces in '\n",
      "          'Tuhayta district in the south of Hodeidah city, western Yemen, with '\n",
      "          'no report of fatalities nor injuries.',\n",
      " 'region': 'Middle East',\n",
      " 'source': 'Al Amaliqah',\n",
      " 'source_scale': 'National',\n",
      " 'sub_event_type': 'Armed clash',\n",
      " 'time_precision': '1',\n",
      " 'timestamp': '1554760629',\n",
      " 'year': '2019'}\n"
     ]
    }
   ],
   "source": [
    "_data = _data[\"data\"]\n",
    "pprint(_data[0])"
   ]
  },
  {
   "cell_type": "markdown",
   "metadata": {},
   "source": [
    "Let's produce a data frame from the data:"
   ]
  },
  {
   "cell_type": "code",
   "execution_count": 7,
   "metadata": {},
   "outputs": [
    {
     "data": {
      "text/html": [
       "<div>\n",
       "<style>\n",
       "    .dataframe thead tr:only-child th {\n",
       "        text-align: right;\n",
       "    }\n",
       "\n",
       "    .dataframe thead th {\n",
       "        text-align: left;\n",
       "    }\n",
       "\n",
       "    .dataframe tbody tr th {\n",
       "        vertical-align: top;\n",
       "    }\n",
       "</style>\n",
       "<table border=\"1\" class=\"dataframe\">\n",
       "  <thead>\n",
       "    <tr style=\"text-align: right;\">\n",
       "      <th></th>\n",
       "      <th>actor1</th>\n",
       "      <th>actor2</th>\n",
       "      <th>admin1</th>\n",
       "      <th>admin2</th>\n",
       "      <th>admin3</th>\n",
       "      <th>assoc_actor_1</th>\n",
       "      <th>assoc_actor_2</th>\n",
       "      <th>country</th>\n",
       "      <th>event_date</th>\n",
       "      <th>event_id_cnty</th>\n",
       "      <th>...</th>\n",
       "      <th>location</th>\n",
       "      <th>longitude</th>\n",
       "      <th>notes</th>\n",
       "      <th>region</th>\n",
       "      <th>source</th>\n",
       "      <th>source_scale</th>\n",
       "      <th>sub_event_type</th>\n",
       "      <th>time_precision</th>\n",
       "      <th>timestamp</th>\n",
       "      <th>year</th>\n",
       "    </tr>\n",
       "  </thead>\n",
       "  <tbody>\n",
       "    <tr>\n",
       "      <th>5121681</th>\n",
       "      <td>Military Forces of Yemen (2016-) Supreme Polit...</td>\n",
       "      <td>National Resistance Forces</td>\n",
       "      <td>Al Hudaydah</td>\n",
       "      <td>At Tuhayat</td>\n",
       "      <td></td>\n",
       "      <td></td>\n",
       "      <td>Giants Brigade</td>\n",
       "      <td>Yemen</td>\n",
       "      <td>2019-03-31</td>\n",
       "      <td>YEM30120</td>\n",
       "      <td>...</td>\n",
       "      <td>At Tuhayta</td>\n",
       "      <td>43.2264</td>\n",
       "      <td>Pro-Houthi forces reportedly fired artillery a...</td>\n",
       "      <td>Middle East</td>\n",
       "      <td>Al Amaliqah</td>\n",
       "      <td>National</td>\n",
       "      <td>Armed clash</td>\n",
       "      <td>1</td>\n",
       "      <td>1554760629</td>\n",
       "      <td>2019</td>\n",
       "    </tr>\n",
       "    <tr>\n",
       "      <th>5121682</th>\n",
       "      <td>National Resistance Forces</td>\n",
       "      <td>Military Forces of Yemen (2016-) Supreme Polit...</td>\n",
       "      <td>Al Hudaydah</td>\n",
       "      <td>Al Hali</td>\n",
       "      <td></td>\n",
       "      <td>Giants Brigade</td>\n",
       "      <td></td>\n",
       "      <td>Yemen</td>\n",
       "      <td>2019-03-31</td>\n",
       "      <td>YEM30119</td>\n",
       "      <td>...</td>\n",
       "      <td>Al Hudaydah-Madinat al Salah</td>\n",
       "      <td>42.9940</td>\n",
       "      <td>Anti-Houthi Giants Brigade and Guardians of th...</td>\n",
       "      <td>Middle East</td>\n",
       "      <td>Al Amaliqah</td>\n",
       "      <td>National</td>\n",
       "      <td>Armed clash</td>\n",
       "      <td>1</td>\n",
       "      <td>1554760629</td>\n",
       "      <td>2019</td>\n",
       "    </tr>\n",
       "    <tr>\n",
       "      <th>5121683</th>\n",
       "      <td>National Resistance Forces</td>\n",
       "      <td>Military Forces of Yemen (2016-) Supreme Polit...</td>\n",
       "      <td>Al Hudaydah</td>\n",
       "      <td>Al Hali</td>\n",
       "      <td></td>\n",
       "      <td>Guardians of the Republic</td>\n",
       "      <td></td>\n",
       "      <td>Yemen</td>\n",
       "      <td>2019-03-31</td>\n",
       "      <td>YEM30118</td>\n",
       "      <td>...</td>\n",
       "      <td>Al Hudaydah-Al Matahin</td>\n",
       "      <td>43.0110</td>\n",
       "      <td>Anti-Houthi Guardians of the Republic forces c...</td>\n",
       "      <td>Middle East</td>\n",
       "      <td>Khabar News Agency (Yemen)</td>\n",
       "      <td>National</td>\n",
       "      <td>Armed clash</td>\n",
       "      <td>1</td>\n",
       "      <td>1554760629</td>\n",
       "      <td>2019</td>\n",
       "    </tr>\n",
       "    <tr>\n",
       "      <th>5121684</th>\n",
       "      <td>Military Forces of Yemen (2016-) Supreme Polit...</td>\n",
       "      <td>Military Forces of Yemen (2012-)</td>\n",
       "      <td>Al Bayda</td>\n",
       "      <td>Mukayras</td>\n",
       "      <td></td>\n",
       "      <td></td>\n",
       "      <td>Militia (Pro-Government)</td>\n",
       "      <td>Yemen</td>\n",
       "      <td>2019-03-31</td>\n",
       "      <td>YEM30116</td>\n",
       "      <td>...</td>\n",
       "      <td>Mukayras</td>\n",
       "      <td>45.6707</td>\n",
       "      <td>Pro-Houthi forces claimed to have attacked pro...</td>\n",
       "      <td>Middle East</td>\n",
       "      <td>Ofq News</td>\n",
       "      <td>National</td>\n",
       "      <td>Armed clash</td>\n",
       "      <td>1</td>\n",
       "      <td>1554760629</td>\n",
       "      <td>2019</td>\n",
       "    </tr>\n",
       "    <tr>\n",
       "      <th>5121688</th>\n",
       "      <td>Bayt al Asnaj Tribal Militia (Yemen)</td>\n",
       "      <td>Bayt al Dughaysh Tribal Militia (Yemen)</td>\n",
       "      <td>Taizz</td>\n",
       "      <td>Ash Shamayatayn</td>\n",
       "      <td></td>\n",
       "      <td></td>\n",
       "      <td></td>\n",
       "      <td>Yemen</td>\n",
       "      <td>2019-03-31</td>\n",
       "      <td>YEM30131</td>\n",
       "      <td>...</td>\n",
       "      <td>As Samsarah</td>\n",
       "      <td>44.0048</td>\n",
       "      <td>Clashes between Bayt Al-Asnaj and Bayt Al-Dugh...</td>\n",
       "      <td>Middle East</td>\n",
       "      <td>Al Masdar</td>\n",
       "      <td>National</td>\n",
       "      <td>Armed clash</td>\n",
       "      <td>1</td>\n",
       "      <td>1554760629</td>\n",
       "      <td>2019</td>\n",
       "    </tr>\n",
       "  </tbody>\n",
       "</table>\n",
       "<p>5 rows × 30 columns</p>\n",
       "</div>"
      ],
      "text/plain": [
       "                                                    actor1  \\\n",
       "5121681  Military Forces of Yemen (2016-) Supreme Polit...   \n",
       "5121682                         National Resistance Forces   \n",
       "5121683                         National Resistance Forces   \n",
       "5121684  Military Forces of Yemen (2016-) Supreme Polit...   \n",
       "5121688               Bayt al Asnaj Tribal Militia (Yemen)   \n",
       "\n",
       "                                                    actor2       admin1  \\\n",
       "5121681                         National Resistance Forces  Al Hudaydah   \n",
       "5121682  Military Forces of Yemen (2016-) Supreme Polit...  Al Hudaydah   \n",
       "5121683  Military Forces of Yemen (2016-) Supreme Polit...  Al Hudaydah   \n",
       "5121684                   Military Forces of Yemen (2012-)     Al Bayda   \n",
       "5121688            Bayt al Dughaysh Tribal Militia (Yemen)        Taizz   \n",
       "\n",
       "                  admin2 admin3              assoc_actor_1  \\\n",
       "5121681       At Tuhayat                                     \n",
       "5121682          Al Hali                    Giants Brigade   \n",
       "5121683          Al Hali         Guardians of the Republic   \n",
       "5121684         Mukayras                                     \n",
       "5121688  Ash Shamayatayn                                     \n",
       "\n",
       "                    assoc_actor_2 country  event_date event_id_cnty  ...   \\\n",
       "5121681            Giants Brigade   Yemen  2019-03-31      YEM30120  ...    \n",
       "5121682                             Yemen  2019-03-31      YEM30119  ...    \n",
       "5121683                             Yemen  2019-03-31      YEM30118  ...    \n",
       "5121684  Militia (Pro-Government)   Yemen  2019-03-31      YEM30116  ...    \n",
       "5121688                             Yemen  2019-03-31      YEM30131  ...    \n",
       "\n",
       "                             location longitude  \\\n",
       "5121681                    At Tuhayta   43.2264   \n",
       "5121682  Al Hudaydah-Madinat al Salah   42.9940   \n",
       "5121683        Al Hudaydah-Al Matahin   43.0110   \n",
       "5121684                      Mukayras   45.6707   \n",
       "5121688                   As Samsarah   44.0048   \n",
       "\n",
       "                                                     notes       region  \\\n",
       "5121681  Pro-Houthi forces reportedly fired artillery a...  Middle East   \n",
       "5121682  Anti-Houthi Giants Brigade and Guardians of th...  Middle East   \n",
       "5121683  Anti-Houthi Guardians of the Republic forces c...  Middle East   \n",
       "5121684  Pro-Houthi forces claimed to have attacked pro...  Middle East   \n",
       "5121688  Clashes between Bayt Al-Asnaj and Bayt Al-Dugh...  Middle East   \n",
       "\n",
       "                             source source_scale sub_event_type  \\\n",
       "5121681                 Al Amaliqah     National    Armed clash   \n",
       "5121682                 Al Amaliqah     National    Armed clash   \n",
       "5121683  Khabar News Agency (Yemen)     National    Armed clash   \n",
       "5121684                    Ofq News     National    Armed clash   \n",
       "5121688                   Al Masdar     National    Armed clash   \n",
       "\n",
       "        time_precision   timestamp  year  \n",
       "5121681              1  1554760629  2019  \n",
       "5121682              1  1554760629  2019  \n",
       "5121683              1  1554760629  2019  \n",
       "5121684              1  1554760629  2019  \n",
       "5121688              1  1554760629  2019  \n",
       "\n",
       "[5 rows x 30 columns]"
      ]
     },
     "execution_count": 7,
     "metadata": {},
     "output_type": "execute_result"
    }
   ],
   "source": [
    "acled_df = pd.DataFrame(_data, index=[x[\"data_id\"] for x in _data])\n",
    "acled_df.drop(\"data_id\", axis=1, inplace=True)\n",
    "acled_df.head()"
   ]
  },
  {
   "cell_type": "markdown",
   "metadata": {},
   "source": [
    "Suppose we want to obtain the fatalities by day.  We can use pandas groupby to do this:"
   ]
  },
  {
   "cell_type": "code",
   "execution_count": 8,
   "metadata": {},
   "outputs": [
    {
     "data": {
      "text/plain": [
       "event_date\n",
       "2019-03-01       00101010110555\n",
       "2019-03-02    01001000000000010\n",
       "2019-03-03           0101000010\n",
       "2019-03-04         110000101010\n",
       "2019-03-05             25250252\n",
       "dtype: object"
      ]
     },
     "execution_count": 8,
     "metadata": {},
     "output_type": "execute_result"
    }
   ],
   "source": [
    "fatalities_ser = acled_df.groupby(\"event_date\").apply(lambda x: x[\"fatalities\"].sum())\n",
    "fatalities_ser.head()"
   ]
  },
  {
   "cell_type": "markdown",
   "metadata": {},
   "source": [
    "That's just wrong.  The problem is that the value in `fatalities` is a string; we need to coerce it to an int and try again.  While we're at it, we should make sure that the values for `event_date` are indeed dates"
   ]
  },
  {
   "cell_type": "code",
   "execution_count": 9,
   "metadata": {},
   "outputs": [
    {
     "data": {
      "text/plain": [
       "event_date\n",
       "2019-03-01    56\n",
       "2019-03-02    30\n",
       "2019-03-03    30\n",
       "2019-03-04    23\n",
       "2019-03-05    77\n",
       "dtype: int64"
      ]
     },
     "execution_count": 9,
     "metadata": {},
     "output_type": "execute_result"
    }
   ],
   "source": [
    "acled_df[\"fatalities\"] = acled_df[\"fatalities\"].apply(int)\n",
    "acled_df[\"event_date\"] = acled_df[\"event_date\"].apply(parse)\n",
    "fatalities_ser = acled_df.groupby(\"event_date\").apply(lambda x: x[\"fatalities\"].sum())\n",
    "fatalities_ser.head()"
   ]
  },
  {
   "cell_type": "markdown",
   "metadata": {},
   "source": [
    "And we can now plot the daily counts"
   ]
  },
  {
   "cell_type": "code",
   "execution_count": 10,
   "metadata": {},
   "outputs": [
    {
     "data": {
      "image/png": "[encoded data removed]",
      "text/plain": [
       "<matplotlib.figure.Figure at 0x121313ba8>"
      ]
     },
     "metadata": {},
     "output_type": "display_data"
    }
   ],
   "source": [
    "fatalities_ser.plot(figsize=(12,5), title=\"Daily Battle Fatalities, Yemen\");"
   ]
  },
  {
   "cell_type": "code",
   "execution_count": null,
   "metadata": {},
   "outputs": [],
   "source": []
  }
 ],
 "metadata": {
  "kernelspec": {
   "display_name": "Python 3",
   "language": "python",
   "name": "python3"
  },
  "language_info": {
   "codemirror_mode": {
    "name": "ipython",
    "version": 3
   },
   "file_extension": ".py",
   "mimetype": "text/x-python",
   "name": "python",
   "nbconvert_exporter": "python",
   "pygments_lexer": "ipython3",
   "version": "3.5.2"
  }
 },
 "nbformat": 4,
 "nbformat_minor": 2
}
