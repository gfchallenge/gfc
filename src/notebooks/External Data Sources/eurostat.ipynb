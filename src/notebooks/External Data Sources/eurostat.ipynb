{
 "cells": [
  {
   "cell_type": "markdown",
   "metadata": {},
   "source": [
    "## Terms for Use\n",
    "Solvers are responsible for complying with all terms of use for the data sources they access.  All code in this document is provided using the [CC0 1.0 Universal (CC0 1.0) Public Domain Dedication](https://creativecommons.org/publicdomain/zero/1.0/).  The examples have been tested using Python 3 but have not been tested under Python 2.  Note that data providers may have changed their APIs or data formats after this notebook was published.\n",
    "\n",
    "### Boring Details\n",
    "The code cells below set up the notebook environment and load necessary libraries"
   ]
  },
  {
   "cell_type": "code",
   "execution_count": 1,
   "metadata": {},
   "outputs": [],
   "source": [
    "%matplotlib inline"
   ]
  },
  {
   "cell_type": "code",
   "execution_count": 2,
   "metadata": {},
   "outputs": [],
   "source": [
    "import matplotlib\n",
    "matplotlib.style.use(\"seaborn-dark\")\n",
    "import os\n",
    "import json\n",
    "import re\n",
    "from pprint import pprint\n",
    "import numpy as np\n",
    "import pandas as pd\n",
    "from dateutil.parser import parse # To convert strings to timestamps\n",
    "import warnings\n",
    "import urllib3\n",
    "http = urllib3.PoolManager()\n",
    "GFC_HOME = os.path.abspath(\"../../..\")\n",
    "auth_file_path = os.path.join(GFC_HOME, \"src\", \"resources\", \"auth.json\")\n",
    "with open(os.path.join(GFC_HOME, auth_file_path), \"r\") as f:\n",
    "    api_key_dict = json.load(f)\n",
    "data_path = os.path.join(GFC_HOME, \"data\")"
   ]
  },
  {
   "cell_type": "markdown",
   "metadata": {},
   "source": [
    "## [eurostat](https://ec.europa.eu)\n",
    "\n",
    "eurostat provides a great deal of statistical information about the countries of the European Union.  It provides a REST API which is documented at https://ec.europa.eu/eurostat/web/json-and-unicode-web-services/about-this-service.\n",
    "\n",
    "### Example: Austrian Unemployment Data from eurostat\n",
    "The example below will illustrate building a query, using `urllib3` to send the request, and processing the JSON return.  Each dataset has an identifier which can be found be browsing https://ec.europa.eu/eurostat/data/database.  For the unemployment data this is \"teilm020\".   The `geo` field is used to identify which countries are to be queried.  The best way to find those codes is to use their [query builder](https://ec.europa.eu/eurostat/web/json-and-unicode-web-services/getting-started/query-builder) and make a few selections to look at the resulting queries.  The code for Austria is \"AT\".  Putting it together:"
   ]
  },
  {
   "cell_type": "code",
   "execution_count": 3,
   "metadata": {},
   "outputs": [
    {
     "name": "stdout",
     "output_type": "stream",
     "text": [
      "Our query URL is http://ec.europa.eu/eurostat/wdds/rest/data/v2.1/json/en/teilm020?precision=1&geo=AT\n",
      "{\"version\":\"2.0\",\"label\":\"Harmonised unemployment rate by sex\",\"href\":\"http://ec.europa.eu/eurostat/wdds/rest/data/v2.1/json/en/teilm020?precision=1&geo=AT\",\"source\":\"Eurostat\",\"updated\":\"2019-04-02\",\"status\":{\"11\":\":\",\"23\":\":\",\"35\":\":\"},\"extension\":{\"datasetId\":\"teilm020\",\"lang\":\"EN\",\"description\":\"The unemployment rate represents unemployed persons as a percentage of the labour force based on International Labour Office (ILO) definition. The labour force is the total number of people employed and unemployed. Unemployed persons comprise persons aged 15 to 74 who:<br />- are without work during the reference week; <br />- are available to start work within the next two weeks; <br />- and have been actively seeking work in the past four weeks or had already found a job to start within the next three months. <br />Data are presented in seasonally adjusted form.\",\"subTitle\":null,\"status\":{\"label\":{\":\":\"not available\"}}},\"class\":\"dataset\",\"value\":{\"0\":4.6,\"1\":4.5,\"2\":4.5,\"3\":4.8,\"4\":5.1,\"5\":4.8,\"6\":4.4,\"7\":4.3,\"8\":4.5,\"9\":4.6,\"10\":4.8,\"12\":4.9,\"13\":4.8,\"14\":4.9,\"15\":5.0,\"16\":4.7,\"17\":5.0,\"18\":5.1,\"19\":4.9,\"20\":4.8,\"21\":5.0,\"22\":5.1,\"24\":4.8,\"25\":4.6,\"26\":4.8,\"27\":4.9,\"28\":4.9,\"29\":4.9,\"30\":4.8,\"31\":4.6,\"32\":4.6,\"33\":4.8,\"34\":5.0},\"dimension\":{\"s_adj\":{\"label\":\"s_adj\",\"category\":{\"index\":{\"SA\":0},\"label\":{\"SA\":\"Seasonally adjusted data, not calendar adjusted data\"}}},\"age\":{\"label\":\"age\",\"category\":{\"index\":{\"TOTAL\":0},\"label\":{\"TOTAL\":\"Total\"}}},\"sex\":{\"label\":\"sex\",\"category\":{\"index\":{\"F\":0,\"M\":1,\"T\":2},\"label\":{\"F\":\"Females\",\"M\":\"Males\",\"T\":\"Total\"}}},\"unit\":{\"label\":\"unit\",\"category\":{\"index\":{\"PC_ACT\":0},\"label\":{\"PC_ACT\":\"Percentage of active population\"}}},\"geo\":{\"label\":\"geo\",\"category\":{\"index\":{\"AT\":0},\"label\":{\"AT\":\"Austria\"}}},\"time\":{\"label\":\"time\",\"category\":{\"index\":{\"2018M04\":0,\"2018M05\":1,\"2018M06\":2,\"2018M07\":3,\"2018M08\":4,\"2018M09\":5,\"2018M10\":6,\"2018M11\":7,\"2018M12\":8,\"2019M01\":9,\"2019M02\":10,\"2019M03\":11},\"label\":{\"2018M04\":\"2018M04\",\"2018M05\":\"2018M05\",\"2018M06\":\"2018M06\",\"2018M07\":\"2018M07\",\"2018M08\":\"2018M08\",\"2018M09\":\"2018M09\",\"2018M10\":\"2018M10\",\"2018M11\":\"2018M11\",\"2018M12\":\"2018M12\",\"2019M01\":\"2019M01\",\"2019M02\":\"2019M02\",\"2019M03\":\"2019M03\"}}}},\"id\":[\"s_adj\",\"age\",\"sex\",\"unit\",\"geo\",\"time\"],\"size\":[1,1,3,1,1,12]}\n"
     ]
    }
   ],
   "source": [
    "EUROSTAT_URL_BASE = \"http://ec.europa.eu/eurostat/wdds/rest/data/v2.1/json/en/\"\n",
    "DATASET_ID = \"teilm020\"\n",
    "PRECISION_FILLER = \"?precision=1\"\n",
    "GEO_ID = \"AT\"\n",
    "query_url = EUROSTAT_URL_BASE + DATASET_ID + PRECISION_FILLER + \"&geo={}\".format(GEO_ID)\n",
    "print(\"Our query URL is {}\".format(query_url))\n",
    "r = http.request(\"GET\", query_url)\n",
    "raw_data = r.data.decode()  # This produces a bytes object, we need to decode it to a string\n",
    "print(raw_data)"
   ]
  },
  {
   "cell_type": "markdown",
   "metadata": {},
   "source": [
    "With the EIA data above we just used the `eval` command to turn the string into a dict.  Let's try it below...."
   ]
  },
  {
   "cell_type": "code",
   "execution_count": 4,
   "metadata": {},
   "outputs": [
    {
     "name": "stdout",
     "output_type": "stream",
     "text": [
      "NameError(\"name 'null' is not defined\",)\n"
     ]
    }
   ],
   "source": [
    "try:\n",
    "    eval(raw_data)\n",
    "except NameError as e:\n",
    "    print(repr(e))"
   ]
  },
  {
   "cell_type": "markdown",
   "metadata": {},
   "source": [
    "That doesn't work.  The problem is a value of `null` for subTitle that isn't enclosed in quotes, so Python doesn't know what to do with it.  Let's try to fix it using a regex string substitution:"
   ]
  },
  {
   "cell_type": "code",
   "execution_count": 5,
   "metadata": {},
   "outputs": [
    {
     "name": "stdout",
     "output_type": "stream",
     "text": [
      "{'class': 'dataset',\n",
      " 'dimension': {'age': {'category': {'index': {'TOTAL': 0},\n",
      "                                    'label': {'TOTAL': 'Total'}},\n",
      "                       'label': 'age'},\n",
      "               'geo': {'category': {'index': {'AT': 0},\n",
      "                                    'label': {'AT': 'Austria'}},\n",
      "                       'label': 'geo'},\n",
      "               's_adj': {'category': {'index': {'SA': 0},\n",
      "                                      'label': {'SA': 'Seasonally adjusted '\n",
      "                                                      'data, not calendar '\n",
      "                                                      'adjusted data'}},\n",
      "                         'label': 's_adj'},\n",
      "               'sex': {'category': {'index': {'F': 0, 'M': 1, 'T': 2},\n",
      "                                    'label': {'F': 'Females',\n",
      "                                              'M': 'Males',\n",
      "                                              'T': 'Total'}},\n",
      "                       'label': 'sex'},\n",
      "               'time': {'category': {'index': {'2018M04': 0,\n",
      "                                               '2018M05': 1,\n",
      "                                               '2018M06': 2,\n",
      "                                               '2018M07': 3,\n",
      "                                               '2018M08': 4,\n",
      "                                               '2018M09': 5,\n",
      "                                               '2018M10': 6,\n",
      "                                               '2018M11': 7,\n",
      "                                               '2018M12': 8,\n",
      "                                               '2019M01': 9,\n",
      "                                               '2019M02': 10,\n",
      "                                               '2019M03': 11},\n",
      "                                     'label': {'2018M04': '2018M04',\n",
      "                                               '2018M05': '2018M05',\n",
      "                                               '2018M06': '2018M06',\n",
      "                                               '2018M07': '2018M07',\n",
      "                                               '2018M08': '2018M08',\n",
      "                                               '2018M09': '2018M09',\n",
      "                                               '2018M10': '2018M10',\n",
      "                                               '2018M11': '2018M11',\n",
      "                                               '2018M12': '2018M12',\n",
      "                                               '2019M01': '2019M01',\n",
      "                                               '2019M02': '2019M02',\n",
      "                                               '2019M03': '2019M03'}},\n",
      "                        'label': 'time'},\n",
      "               'unit': {'category': {'index': {'PC_ACT': 0},\n",
      "                                     'label': {'PC_ACT': 'Percentage of active '\n",
      "                                                         'population'}},\n",
      "                        'label': 'unit'}},\n",
      " 'extension': {'datasetId': 'teilm020',\n",
      "               'description': 'The unemployment rate represents unemployed '\n",
      "                              'persons as a percentage of the labour force '\n",
      "                              'based on International Labour Office (ILO) '\n",
      "                              'definition. The labour force is the total '\n",
      "                              'number of people employed and unemployed. '\n",
      "                              'Unemployed persons comprise persons aged 15 to '\n",
      "                              '74 who:<br />- are without work during the '\n",
      "                              'reference week; <br />- are available to start '\n",
      "                              'work within the next two weeks; <br />- and '\n",
      "                              'have been actively seeking work in the past '\n",
      "                              'four weeks or had already found a job to start '\n",
      "                              'within the next three months. <br />Data are '\n",
      "                              'presented in seasonally adjusted form.',\n",
      "               'lang': 'EN',\n",
      "               'status': {'label': {':': 'not available'}},\n",
      "               'subTitle': 'null'},\n",
      " 'href': 'http://ec.europa.eu/eurostat/wdds/rest/data/v2.1/json/en/teilm020?precision=1&geo=AT',\n",
      " 'id': ['s_adj', 'age', 'sex', 'unit', 'geo', 'time'],\n",
      " 'label': 'Harmonised unemployment rate by sex',\n",
      " 'size': [1, 1, 3, 1, 1, 12],\n",
      " 'source': 'Eurostat',\n",
      " 'status': {'11': ':', '23': ':', '35': ':'},\n",
      " 'updated': '2019-04-02',\n",
      " 'value': {'0': 4.6,\n",
      "           '1': 4.5,\n",
      "           '10': 4.8,\n",
      "           '12': 4.9,\n",
      "           '13': 4.8,\n",
      "           '14': 4.9,\n",
      "           '15': 5.0,\n",
      "           '16': 4.7,\n",
      "           '17': 5.0,\n",
      "           '18': 5.1,\n",
      "           '19': 4.9,\n",
      "           '2': 4.5,\n",
      "           '20': 4.8,\n",
      "           '21': 5.0,\n",
      "           '22': 5.1,\n",
      "           '24': 4.8,\n",
      "           '25': 4.6,\n",
      "           '26': 4.8,\n",
      "           '27': 4.9,\n",
      "           '28': 4.9,\n",
      "           '29': 4.9,\n",
      "           '3': 4.8,\n",
      "           '30': 4.8,\n",
      "           '31': 4.6,\n",
      "           '32': 4.6,\n",
      "           '33': 4.8,\n",
      "           '34': 5.0,\n",
      "           '4': 5.1,\n",
      "           '5': 4.8,\n",
      "           '6': 4.4,\n",
      "           '7': 4.3,\n",
      "           '8': 4.5,\n",
      "           '9': 4.6},\n",
      " 'version': '2.0'}\n"
     ]
    }
   ],
   "source": [
    "raw_data = re.sub(\"null\", \"\\\"null\\\"\", raw_data)\n",
    "_data = eval(raw_data)\n",
    "pprint(_data)"
   ]
  },
  {
   "cell_type": "markdown",
   "metadata": {},
   "source": [
    "It's a bit confusing.  The elements of the `value` field look like the numbers that we want but there seem to be too many of them, considering that our time index only has 12 entries.  The reason for this can be found in the `category` field where we see that the data is broken out by females, males, and total.  Articulating the values to categories is non-intuitive.  I had to look at the [eurostat table layout for this data](https://ec.europa.eu/eurostat/data/database?p_p_id=NavTreeportletprod_WAR_NavTreeportletprod_INSTANCE_nPqeVbPXRmWQ&p_p_lifecycle=0&p_p_state=normal&p_p_mode=view&p_p_col_id=column-2&p_p_col_pos=1&p_p_col_count=2) in order to figure out which values correspond to which categories.  The values with indices 0 through 11 belong to the females, 12 through 23 to males, 24 to 35 for total.  Notice that there are no values given for indices 11, 23, or 35.  An inspection of the table layout shows that at the time I accessed the data the last month was missing.  OK, armed with this knowledge, let's try to make a data frame out of this data.  First, we need to convert the string formatted integer keys in the `value` field to actual integers:"
   ]
  },
  {
   "cell_type": "code",
   "execution_count": 6,
   "metadata": {},
   "outputs": [],
   "source": [
    "_values = _data[\"value\"]\n",
    "_values = {int(k):v for k,v in _values.items()} # Keys are now integers"
   ]
  },
  {
   "cell_type": "markdown",
   "metadata": {},
   "source": [
    "Now we need to insert \"NA\" values for missing elements.  To identify which items are missing we need to figure out how many we have.  That's the product of the number of categories and the length of the index.  Thankfully, the data has a `size` field that tells us the number of items along each dimension.  We just need to multiply so see how many we have:"
   ]
  },
  {
   "cell_type": "code",
   "execution_count": 7,
   "metadata": {},
   "outputs": [
    {
     "name": "stdout",
     "output_type": "stream",
     "text": [
      "There should be 36 values.\n"
     ]
    }
   ],
   "source": [
    "dim = _data[\"size\"]\n",
    "prod = 1\n",
    "for d in dim:\n",
    "    prod = prod*d\n",
    "print(\"There should be {} values.\".format(prod))"
   ]
  },
  {
   "cell_type": "markdown",
   "metadata": {},
   "source": [
    "Lets put placeholders in our `_values` dict and convert to a pandas Series"
   ]
  },
  {
   "cell_type": "code",
   "execution_count": 8,
   "metadata": {},
   "outputs": [],
   "source": [
    "for k in range(prod):\n",
    "    if k not in _values.keys():\n",
    "        _values[k] = np.nan\n",
    "value_ser = pd.Series(_values)"
   ]
  },
  {
   "cell_type": "markdown",
   "metadata": {},
   "source": [
    "We are going to create a tidy dataframe with variables in columns and each row representing a record.  Our dataframe will look something like:\n",
    "\n",
    "    time    gender    value\n",
    "0   2018M04    F        4.6\n",
    "\n",
    "...\n",
    "\n",
    "12  2018M04    M        4.9\n",
    "\n",
    "...\n",
    "\n",
    "34  2019M02    T        5.0\n",
    "\n",
    "35  2019M03    T        NaN\n",
    "\n",
    "The time column will just be the time index, repeated.  We'll grab the length of the time index for later use."
   ]
  },
  {
   "cell_type": "code",
   "execution_count": 9,
   "metadata": {},
   "outputs": [],
   "source": [
    "time_index = sorted(list(_data[\"dimension\"][\"time\"][\"category\"][\"index\"].keys()))\n",
    "n_periods = len(time_index)\n",
    "time_index = 3*time_index\n",
    "time_index_ser = pd.Series(time_index)"
   ]
  },
  {
   "cell_type": "markdown",
   "metadata": {},
   "source": [
    "The Gender column will be 12 \"F\", 12 \"M\", 12 \"T\"  We could pull it out programmatically by parsing the fields and sorting them but it's easy enough to hard code:"
   ]
  },
  {
   "cell_type": "code",
   "execution_count": 10,
   "metadata": {},
   "outputs": [],
   "source": [
    "genders = n_periods*[\"F\"] + n_periods*[\"M\"] + n_periods*[\"T\"]\n",
    "gender_ser = pd.Series(genders)"
   ]
  },
  {
   "cell_type": "markdown",
   "metadata": {},
   "source": [
    "Putting it all together gives us this dataframe:"
   ]
  },
  {
   "cell_type": "code",
   "execution_count": 11,
   "metadata": {},
   "outputs": [
    {
     "data": {
      "text/html": [
       "<div>\n",
       "<style>\n",
       "    .dataframe thead tr:only-child th {\n",
       "        text-align: right;\n",
       "    }\n",
       "\n",
       "    .dataframe thead th {\n",
       "        text-align: left;\n",
       "    }\n",
       "\n",
       "    .dataframe tbody tr th {\n",
       "        vertical-align: top;\n",
       "    }\n",
       "</style>\n",
       "<table border=\"1\" class=\"dataframe\">\n",
       "  <thead>\n",
       "    <tr style=\"text-align: right;\">\n",
       "      <th></th>\n",
       "      <th>gender</th>\n",
       "      <th>month</th>\n",
       "      <th>value</th>\n",
       "    </tr>\n",
       "  </thead>\n",
       "  <tbody>\n",
       "    <tr>\n",
       "      <th>0</th>\n",
       "      <td>F</td>\n",
       "      <td>2018M04</td>\n",
       "      <td>4.6</td>\n",
       "    </tr>\n",
       "    <tr>\n",
       "      <th>1</th>\n",
       "      <td>F</td>\n",
       "      <td>2018M05</td>\n",
       "      <td>4.5</td>\n",
       "    </tr>\n",
       "    <tr>\n",
       "      <th>2</th>\n",
       "      <td>F</td>\n",
       "      <td>2018M06</td>\n",
       "      <td>4.5</td>\n",
       "    </tr>\n",
       "    <tr>\n",
       "      <th>3</th>\n",
       "      <td>F</td>\n",
       "      <td>2018M07</td>\n",
       "      <td>4.8</td>\n",
       "    </tr>\n",
       "    <tr>\n",
       "      <th>4</th>\n",
       "      <td>F</td>\n",
       "      <td>2018M08</td>\n",
       "      <td>5.1</td>\n",
       "    </tr>\n",
       "  </tbody>\n",
       "</table>\n",
       "</div>"
      ],
      "text/plain": [
       "  gender    month  value\n",
       "0      F  2018M04    4.6\n",
       "1      F  2018M05    4.5\n",
       "2      F  2018M06    4.5\n",
       "3      F  2018M07    4.8\n",
       "4      F  2018M08    5.1"
      ]
     },
     "execution_count": 11,
     "metadata": {},
     "output_type": "execute_result"
    }
   ],
   "source": [
    "eurostat_df = pd.DataFrame({\"month\": time_index_ser,\n",
    "                            \"gender\": gender_ser,\n",
    "                            \"value\": value_ser})\n",
    "eurostat_df.head()"
   ]
  },
  {
   "cell_type": "markdown",
   "metadata": {},
   "source": [
    "Suppose that we want to plot the trend in total unemployment.  We could parse the month column to get timestamps but we can see what we want without doing so:"
   ]
  },
  {
   "cell_type": "code",
   "execution_count": 12,
   "metadata": {},
   "outputs": [
    {
     "data": {
      "image/png": "[encoded data removed]",
      "text/plain": [
       "<matplotlib.figure.Figure at 0x120593908>"
      ]
     },
     "metadata": {},
     "output_type": "display_data"
    }
   ],
   "source": [
    "total_df = eurostat_df[eurostat_df.gender==\"T\"]\n",
    "total_df[\"value\"].plot(title=\"Total Unemployment Trend, Austria, Percent\",\n",
    "                       figsize=(12,5), drawstyle=\"steps-post\");"
   ]
  }
 ],
 "metadata": {
  "kernelspec": {
   "display_name": "Python 3",
   "language": "python",
   "name": "python3"
  },
  "language_info": {
   "codemirror_mode": {
    "name": "ipython",
    "version": 3
   },
   "file_extension": ".py",
   "mimetype": "text/x-python",
   "name": "python",
   "nbconvert_exporter": "python",
   "pygments_lexer": "ipython3",
   "version": "3.5.2"
  }
 },
 "nbformat": 4,
 "nbformat_minor": 2
}
