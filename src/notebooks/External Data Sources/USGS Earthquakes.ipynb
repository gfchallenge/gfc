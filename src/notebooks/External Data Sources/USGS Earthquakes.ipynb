{
 "cells": [
  {
   "cell_type": "markdown",
   "metadata": {},
   "source": [
    "## Terms for Use\n",
    "Solvers are responsible for complying with all terms of use for the data sources they access.  All code in this document is provided using the [CC0 1.0 Universal (CC0 1.0) Public Domain Dedication](https://creativecommons.org/publicdomain/zero/1.0/).  The examples have been tested using Python 3 but have not been tested under Python 2.  Note that data providers may have changed their APIs or data formats after this notebook was published.\n",
    "\n",
    "### Boring Details\n",
    "The code cells below set up the notebook environment and load necessary libraries"
   ]
  },
  {
   "cell_type": "code",
   "execution_count": 1,
   "metadata": {},
   "outputs": [],
   "source": [
    "%matplotlib inline"
   ]
  },
  {
   "cell_type": "code",
   "execution_count": 2,
   "metadata": {},
   "outputs": [],
   "source": [
    "import matplotlib\n",
    "matplotlib.style.use(\"seaborn-dark\")\n",
    "import os\n",
    "import json\n",
    "import re\n",
    "from pprint import pprint\n",
    "import numpy as np\n",
    "import pandas as pd\n",
    "from dateutil.parser import parse # To convert strings to timestamps\n",
    "import warnings\n",
    "import urllib3\n",
    "http = urllib3.PoolManager()\n",
    "GFC_HOME = os.path.abspath(\"../../..\")\n",
    "auth_file_path = os.path.join(GFC_HOME, \"src\", \"resources\", \"auth.json\")\n",
    "with open(os.path.join(GFC_HOME, auth_file_path), \"r\") as f:\n",
    "    api_key_dict = json.load(f)\n",
    "data_path = os.path.join(GFC_HOME, \"data\")"
   ]
  },
  {
   "cell_type": "markdown",
   "metadata": {},
   "source": [
    "## USGS Earthquake Data\n",
    "In the first GF Challenge there were some IFPs for forecasting the number of earthquakes of a certain magnitude during a certain interval.  USGS does provide a [REST API](https://earthquake.usgs.gov/fdsnws/event/1/) that will respond to queries like this and will provide output in a number of formats such as KML or GeoJSON.\n",
    "\n",
    "### Example: Earthquake Counts Magnitude 5 or Higher\n",
    "The example below constructs a query for the number of worldwide earthquakes magnitude 5 or higher between March 1 and March 31, 2019, worldwide:"
   ]
  },
  {
   "cell_type": "code",
   "execution_count": 189,
   "metadata": {},
   "outputs": [
    {
     "name": "stdout",
     "output_type": "stream",
     "text": [
      "Our query URL is https://earthquake.usgs.gov/fdsnws/event/1/count?format=geojson&starttime=2019-03-01&endtime=2019-03-31&minmagnitude=5\n"
     ]
    },
    {
     "name": "stderr",
     "output_type": "stream",
     "text": [
      "/Users/peterhaglich/anaconda/envs/hfc/lib/python3.5/site-packages/urllib3/connectionpool.py:858: InsecureRequestWarning: Unverified HTTPS request is being made. Adding certificate verification is strongly advised. See: https://urllib3.readthedocs.io/en/latest/advanced-usage.html#ssl-warnings\n",
      "  InsecureRequestWarning)\n"
     ]
    },
    {
     "name": "stdout",
     "output_type": "stream",
     "text": [
      "{\"count\":125,\"maxAllowed\":20000}\n"
     ]
    }
   ],
   "source": [
    "query_url_base = \"https://earthquake.usgs.gov/fdsnws/event/1/count\"\n",
    "return_format = \"geojson\"\n",
    "starttime = \"2019-03-01\"  # YYYY-MM-DD\n",
    "endtime = \"2019-03-31\"\n",
    "min_magnitude = 5\n",
    "query_url = query_url_base + \"?format={}&starttime={}&endtime={}&minmagnitude={}\".format(return_format, starttime, endtime, min_magnitude)\n",
    "print(\"Our query URL is {}\".format(query_url))\n",
    "r = http.request(\"GET\", query_url)\n",
    "raw_data = r.data.decode()  # This produces a bytes object, we need to decode it to a string\n",
    "print(raw_data)"
   ]
  },
  {
   "cell_type": "markdown",
   "metadata": {},
   "source": [
    "To convert it to a dict use the `eval` statement:"
   ]
  },
  {
   "cell_type": "code",
   "execution_count": 188,
   "metadata": {},
   "outputs": [
    {
     "name": "stdout",
     "output_type": "stream",
     "text": [
      "{'count': 125, 'maxAllowed': 20000}\n"
     ]
    }
   ],
   "source": [
    "_data = eval(raw_data)\n",
    "pprint(_data)"
   ]
  },
  {
   "cell_type": "markdown",
   "metadata": {},
   "source": [
    "Now suppose we wish to restrict our query to a specific region defined by minimum and maximum values for latitude and longitude.  We do this by specifying values for `minlatitude`, `maxlatitude`, ,`minlongitude`, `maxlongitude` and adding them to the query URL.  Let's look at a large bounding box centered on Japan."
   ]
  },
  {
   "cell_type": "code",
   "execution_count": 190,
   "metadata": {},
   "outputs": [
    {
     "name": "stdout",
     "output_type": "stream",
     "text": [
      "Our query URL is https://earthquake.usgs.gov/fdsnws/event/1/count?format=geojson&starttime=2019-03-01&endtime=2019-03-31&minmagnitude=5&minlatitude=25&maxlatitude=45&minlongitude=125&maxlongitude=155\n",
      "{\"count\":11,\"maxAllowed\":20000}\n"
     ]
    },
    {
     "name": "stderr",
     "output_type": "stream",
     "text": [
      "/Users/peterhaglich/anaconda/envs/hfc/lib/python3.5/site-packages/urllib3/connectionpool.py:858: InsecureRequestWarning: Unverified HTTPS request is being made. Adding certificate verification is strongly advised. See: https://urllib3.readthedocs.io/en/latest/advanced-usage.html#ssl-warnings\n",
      "  InsecureRequestWarning)\n"
     ]
    }
   ],
   "source": [
    "min_lat, max_lat = (25, 45)\n",
    "min_long, max_long = (125, 155)\n",
    "query_url = query_url + \"&minlatitude={}&maxlatitude={}&minlongitude={}&maxlongitude={}\".format(min_lat, max_lat, min_long, max_long)\n",
    "print(\"Our query URL is {}\".format(query_url))\n",
    "r = http.request(\"GET\", query_url)\n",
    "raw_data = r.data.decode()  # This produces a bytes object, we need to decode it to a string\n",
    "print(raw_data)"
   ]
  },
  {
   "cell_type": "markdown",
   "metadata": {},
   "source": [
    "The above is cumbersome, so we can define a function to run the query for us:"
   ]
  },
  {
   "cell_type": "code",
   "execution_count": 193,
   "metadata": {},
   "outputs": [
    {
     "name": "stderr",
     "output_type": "stream",
     "text": [
      "/Users/peterhaglich/anaconda/envs/hfc/lib/python3.5/site-packages/urllib3/connectionpool.py:858: InsecureRequestWarning: Unverified HTTPS request is being made. Adding certificate verification is strongly advised. See: https://urllib3.readthedocs.io/en/latest/advanced-usage.html#ssl-warnings\n",
      "  InsecureRequestWarning)\n"
     ]
    },
    {
     "data": {
      "text/plain": [
       "125"
      ]
     },
     "execution_count": 193,
     "metadata": {},
     "output_type": "execute_result"
    }
   ],
   "source": [
    "def get_quake_count(starttime, endtime, min_magnitude=0, bounding_box=dict()):\n",
    "    \"\"\"\n",
    "    Retrieves earthquake count\n",
    "    :param starttime: ISO 8601 Date/Time format, assumes UTC\n",
    "    :param endtime: ISO 8601 Date/Time\n",
    "    :min_magnitude: Earthquakes of this magnitude or higher.\"&minlatitude={}&maxlatitude={}&minlongitude={}&maxlongitude={}\".format(min_lat, max_lat, min_long, max_long)\n",
    "    :bounding_box: dict {\"min_lat\", \"max_lat\", \"min_long\", \"max_long\"}\n",
    "    :returns: integer count\n",
    "    \"\"\"\n",
    "    query_url_base = \"https://earthquake.usgs.gov/fdsnws/event/1/count\"\n",
    "    return_format = \"geojson\"\n",
    "    query_url = query_url_base + \"?format=geojson\"\n",
    "    query_url += \"&starttime={}&endtime={}&minmagnitude={}\".format(starttime, endtime, min_magnitude)\n",
    "    if bounding_box:\n",
    "        query_url += \"&minlatitude={}&maxlatitude={}&minlongitude={}&maxlongitude={}\".format(bounding_box[min_lat], bounding_box[max_lat],\n",
    "                                                                                             bounding_box[min_long], bounding_box[max_long])\n",
    "    r = http.request(\"GET\", query_url)\n",
    "    raw_data = r.data.decode()  # This produces a bytes object, we need to decode it to a string\n",
    "    _data = eval(raw_data)\n",
    "    return _data[\"count\"]\n",
    " \n",
    "\n",
    "get_quake_count(\"2019-03-01\", \"2019-03-31\", 5)"
   ]
  },
  {
   "cell_type": "markdown",
   "metadata": {},
   "source": [
    "Just for fun, let's look at the count of earthquakes by minimum magnitude for every .1 magnitude from 0 to 10.  I'll add a statement to repress the 100 warning messages regarding making requests of HTTPS without certificate verification."
   ]
  },
  {
   "cell_type": "code",
   "execution_count": 203,
   "metadata": {},
   "outputs": [],
   "source": [
    "with warnings.catch_warnings():\n",
    "    warnings.simplefilter(\"ignore\")\n",
    "    m_values = [m/10 for m in range(101)]\n",
    "    count_dict = {m: get_quake_count(starttime=\"2019-03-01\", endtime=\"2019-03-31\", min_magnitude=m)\n",
    "                 for m in m_values}"
   ]
  },
  {
   "cell_type": "markdown",
   "metadata": {},
   "source": [
    "The chart below shows the survival plot of earthquakes by magnitude, with the count on a logarithmic scale."
   ]
  },
  {
   "cell_type": "code",
   "execution_count": 204,
   "metadata": {},
   "outputs": [
    {
     "data": {
      "image/png": "[encoded data removed]",
      "text/plain": [
       "<matplotlib.figure.Figure at 0x124185c18>"
      ]
     },
     "metadata": {},
     "output_type": "display_data"
    }
   ],
   "source": [
    "count_ser = pd.Series(count_dict)\n",
    "count_ser.plot(figsize=(12,5), title=\"Earthquakes by magnitude, March 2019\", logy=True);"
   ]
  }
 ],
 "metadata": {
  "kernelspec": {
   "display_name": "Python 3",
   "language": "python",
   "name": "python3"
  },
  "language_info": {
   "codemirror_mode": {
    "name": "ipython",
    "version": 3
   },
   "file_extension": ".py",
   "mimetype": "text/x-python",
   "name": "python",
   "nbconvert_exporter": "python",
   "pygments_lexer": "ipython3",
   "version": "3.5.2"
  }
 },
 "nbformat": 4,
 "nbformat_minor": 2
}
