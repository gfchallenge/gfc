{
 "cells": [
  {
   "cell_type": "code",
   "execution_count": 5,
   "metadata": {},
   "outputs": [],
   "source": [
    "%matplotlib inline"
   ]
  },
  {
   "cell_type": "code",
   "execution_count": 14,
   "metadata": {},
   "outputs": [
    {
     "data": {
      "text/plain": [
       "'/Users/peterhaglich/Dropbox/Work/IARPA/HFC/gfc/gfc/src/notebooks'"
      ]
     },
     "execution_count": 14,
     "metadata": {},
     "output_type": "execute_result"
    }
   ],
   "source": [
    "pwd"
   ]
  },
  {
   "cell_type": "code",
   "execution_count": 199,
   "metadata": {},
   "outputs": [],
   "source": [
    "import matplotlib\n",
    "matplotlib.style.use(\"seaborn-dark\")\n",
    "import os\n",
    "import json\n",
    "import re\n",
    "from pprint import pprint\n",
    "import numpy as np\n",
    "import pandas as pd\n",
    "import warnings\n",
    "GFC_HOME = os.path.abspath(\"../..\")\n",
    "auth_file_path = os.path.join(GFC_HOME, \"src\", \"resources\", \"auth.json\")\n",
    "with open(os.path.join(GFC_HOME, auth_file_path), \"r\") as f:\n",
    "    api_key_dict = json.load(f)"
   ]
  },
  {
   "cell_type": "markdown",
   "metadata": {},
   "source": [
    "# Some Useful External Data Sources for GFC 2"
   ]
  },
  {
   "cell_type": "markdown",
   "metadata": {},
   "source": [
    "In this notebook we provide some example Python code for accessing external data sources that may be relevant to some of the Challenge IFPs.  Please note that we make no guarantee that these sources will have predictive power for any of the IFPs.  However, they may provide a launching point for Solvers to access external data relevant to the IFPs.  In some cases these sources will be the resolution criteria for the IFPs.\n",
    "\n",
    "Solvers are responsible for complying with all terms of use for the data sources they access.  All code in this document is provided using the [CC0 1.0 Universal (CC0 1.0) Public Domain Dedication](https://creativecommons.org/publicdomain/zero/1.0/).  The examples have been tested using Python 3 but have not been tested under Python 2."
   ]
  },
  {
   "cell_type": "markdown",
   "metadata": {},
   "source": [
    "## [Quandl](https://www.quandl.com)\n",
    "\n",
    "Quandl provides a large number of time series for financial data.  A great deal of this content is free while other content requires paid premium access.  The examples here will only address the free data.\n",
    "\n",
    "Programmatic access to Quandl's API is available for Python, R, and Excel but requires a free API key.  See the [Quandl API documentation](https://docs.quandl.com) for details on obtaining this key and other API documentation.  To use your API key just issue a simple command\n",
    "\n",
    "`quandl.ApiConfig.api_key = \"YOURAPIKEY\"`, replacing `YOURAPIKEY` with your actual key."
   ]
  },
  {
   "cell_type": "code",
   "execution_count": 18,
   "metadata": {},
   "outputs": [],
   "source": [
    "QUANDL_KEY = api_key_dict[\"quandl\"]"
   ]
  },
  {
   "cell_type": "code",
   "execution_count": 19,
   "metadata": {},
   "outputs": [],
   "source": [
    "import quandl\n",
    "quandl.ApiConfig.api_key = QUANDL_KEY"
   ]
  },
  {
   "cell_type": "markdown",
   "metadata": {},
   "source": [
    "The basic statement to access data is `quandl.get(\"QUANDL_CODE\")`, where `QUANDL_CODE` is Quandl's identifier for the time series and can be found by searching https://www.quandl.com/search"
   ]
  },
  {
   "cell_type": "markdown",
   "metadata": {},
   "source": [
    "### Example: Gold Prices\n",
    "\n",
    "GF Challenge 1 had IFPs related to predicting the future price of gold from the London Bullion Market Association..  In this example we will show the use of the Quandl API to get the historical price of that time series.  The Quandl identifier is `LBMA/GOLD`.  Let's retrieve and examine the tail of the data."
   ]
  },
  {
   "cell_type": "code",
   "execution_count": 20,
   "metadata": {},
   "outputs": [
    {
     "data": {
      "text/html": [
       "<div>\n",
       "<style>\n",
       "    .dataframe thead tr:only-child th {\n",
       "        text-align: right;\n",
       "    }\n",
       "\n",
       "    .dataframe thead th {\n",
       "        text-align: left;\n",
       "    }\n",
       "\n",
       "    .dataframe tbody tr th {\n",
       "        vertical-align: top;\n",
       "    }\n",
       "</style>\n",
       "<table border=\"1\" class=\"dataframe\">\n",
       "  <thead>\n",
       "    <tr style=\"text-align: right;\">\n",
       "      <th></th>\n",
       "      <th>USD (AM)</th>\n",
       "      <th>USD (PM)</th>\n",
       "      <th>GBP (AM)</th>\n",
       "      <th>GBP (PM)</th>\n",
       "      <th>EURO (AM)</th>\n",
       "      <th>EURO (PM)</th>\n",
       "    </tr>\n",
       "    <tr>\n",
       "      <th>Date</th>\n",
       "      <th></th>\n",
       "      <th></th>\n",
       "      <th></th>\n",
       "      <th></th>\n",
       "      <th></th>\n",
       "      <th></th>\n",
       "    </tr>\n",
       "  </thead>\n",
       "  <tbody>\n",
       "    <tr>\n",
       "      <th>2019-04-02</th>\n",
       "      <td>1287.20</td>\n",
       "      <td>1290.30</td>\n",
       "      <td>984.97</td>\n",
       "      <td>988.37</td>\n",
       "      <td>1148.95</td>\n",
       "      <td>1151.59</td>\n",
       "    </tr>\n",
       "    <tr>\n",
       "      <th>2019-04-03</th>\n",
       "      <td>1291.85</td>\n",
       "      <td>1290.45</td>\n",
       "      <td>980.38</td>\n",
       "      <td>981.26</td>\n",
       "      <td>1148.84</td>\n",
       "      <td>1147.98</td>\n",
       "    </tr>\n",
       "    <tr>\n",
       "      <th>2019-04-04</th>\n",
       "      <td>1291.60</td>\n",
       "      <td>1283.15</td>\n",
       "      <td>981.87</td>\n",
       "      <td>978.66</td>\n",
       "      <td>1149.78</td>\n",
       "      <td>1144.18</td>\n",
       "    </tr>\n",
       "    <tr>\n",
       "      <th>2019-04-05</th>\n",
       "      <td>1288.90</td>\n",
       "      <td>1288.45</td>\n",
       "      <td>985.11</td>\n",
       "      <td>989.53</td>\n",
       "      <td>1147.51</td>\n",
       "      <td>1148.01</td>\n",
       "    </tr>\n",
       "    <tr>\n",
       "      <th>2019-04-08</th>\n",
       "      <td>1297.10</td>\n",
       "      <td>1300.00</td>\n",
       "      <td>993.58</td>\n",
       "      <td>996.45</td>\n",
       "      <td>1154.29</td>\n",
       "      <td>1153.49</td>\n",
       "    </tr>\n",
       "  </tbody>\n",
       "</table>\n",
       "</div>"
      ],
      "text/plain": [
       "            USD (AM)  USD (PM)  GBP (AM)  GBP (PM)  EURO (AM)  EURO (PM)\n",
       "Date                                                                    \n",
       "2019-04-02   1287.20   1290.30    984.97    988.37    1148.95    1151.59\n",
       "2019-04-03   1291.85   1290.45    980.38    981.26    1148.84    1147.98\n",
       "2019-04-04   1291.60   1283.15    981.87    978.66    1149.78    1144.18\n",
       "2019-04-05   1288.90   1288.45    985.11    989.53    1147.51    1148.01\n",
       "2019-04-08   1297.10   1300.00    993.58    996.45    1154.29    1153.49"
      ]
     },
     "execution_count": 20,
     "metadata": {},
     "output_type": "execute_result"
    }
   ],
   "source": [
    "gold = quandl.get(\"LBMA/GOLD\")\n",
    "gold.tail()"
   ]
  },
  {
   "cell_type": "markdown",
   "metadata": {},
   "source": [
    "The returned value is a pandas Data Frame object with 6 columns.  In previous IFPs the resolution time series was the column `USD (PM)`.  Let's look at a plot of this series."
   ]
  },
  {
   "cell_type": "code",
   "execution_count": 10,
   "metadata": {},
   "outputs": [
    {
     "data": {
      "image/png": "[encoded data removed]",
      "text/plain": [
       "<matplotlib.figure.Figure at 0x103557518>"
      ]
     },
     "metadata": {},
     "output_type": "display_data"
    }
   ],
   "source": [
    "gold[\"USD (PM)\"].plot(figsize=(12, 5), title=\"Historical Price of Gold, LBMA USD (PM)\");"
   ]
  },
  {
   "cell_type": "markdown",
   "metadata": {},
   "source": [
    "Now that the data is in a time series you can try any number of time series techniques such as ARIMA models or Recurrent Neural Networks."
   ]
  },
  {
   "cell_type": "markdown",
   "metadata": {},
   "source": [
    "## [STOXX](https://www.stoxx.com)\n",
    "\n",
    "STOXX also provides indices for financial indices which are used in some IFPs.  STOXX doesn't have a programmating API so you'll need to use the Python `urllib` module to pull down the data.  The example below will walk through this.\n",
    "\n",
    "### Example: VSTOXX\n",
    "\n",
    "VSTOXX is the volatility of the Euro STOXX 50 index and has been the subject of IFPs in the past.  The historical data is available in textual format at https://www.stoxx.com/document/Indices/Current/HistoricalData/h_vstoxx.txt.  In the example we will use the `urllib` module to process this data into a pandas Data Frame."
   ]
  },
  {
   "cell_type": "code",
   "execution_count": 12,
   "metadata": {},
   "outputs": [
    {
     "name": "stderr",
     "output_type": "stream",
     "text": [
      "/Users/peterhaglich/anaconda/envs/hfc/lib/python3.5/site-packages/urllib3/connectionpool.py:858: InsecureRequestWarning: Unverified HTTPS request is being made. Adding certificate verification is strongly advised. See: https://urllib3.readthedocs.io/en/latest/advanced-usage.html#ssl-warnings\n",
      "  InsecureRequestWarning)\n"
     ]
    },
    {
     "name": "stdout",
     "output_type": "stream",
     "text": [
      "There are 5158 rows in the data\n"
     ]
    },
    {
     "data": {
      "text/html": [
       "<div>\n",
       "<style>\n",
       "    .dataframe thead tr:only-child th {\n",
       "        text-align: right;\n",
       "    }\n",
       "\n",
       "    .dataframe thead th {\n",
       "        text-align: left;\n",
       "    }\n",
       "\n",
       "    .dataframe tbody tr th {\n",
       "        vertical-align: top;\n",
       "    }\n",
       "</style>\n",
       "<table border=\"1\" class=\"dataframe\">\n",
       "  <thead>\n",
       "    <tr style=\"text-align: right;\">\n",
       "      <th></th>\n",
       "      <th>Indexvalue</th>\n",
       "    </tr>\n",
       "    <tr>\n",
       "      <th>Date</th>\n",
       "      <th></th>\n",
       "    </tr>\n",
       "  </thead>\n",
       "  <tbody>\n",
       "    <tr>\n",
       "      <th>2019-04-02</th>\n",
       "      <td>14.7848</td>\n",
       "    </tr>\n",
       "    <tr>\n",
       "      <th>2019-04-03</th>\n",
       "      <td>14.1923</td>\n",
       "    </tr>\n",
       "    <tr>\n",
       "      <th>2019-04-04</th>\n",
       "      <td>14.2468</td>\n",
       "    </tr>\n",
       "    <tr>\n",
       "      <th>2019-04-05</th>\n",
       "      <td>13.5520</td>\n",
       "    </tr>\n",
       "    <tr>\n",
       "      <th>2019-04-08</th>\n",
       "      <td>14.6030</td>\n",
       "    </tr>\n",
       "  </tbody>\n",
       "</table>\n",
       "</div>"
      ],
      "text/plain": [
       "            Indexvalue\n",
       "Date                  \n",
       "2019-04-02     14.7848\n",
       "2019-04-03     14.1923\n",
       "2019-04-04     14.2468\n",
       "2019-04-05     13.5520\n",
       "2019-04-08     14.6030"
      ]
     },
     "execution_count": 12,
     "metadata": {},
     "output_type": "execute_result"
    }
   ],
   "source": [
    "import urllib3\n",
    "from dateutil.parser import parse # To convert strings to timestamps\n",
    "import pandas as pd\n",
    "http = urllib3.PoolManager()\n",
    "VSTOXX_URL = \"https://www.stoxx.com/document/Indices/Current/HistoricalData/h_v2tx.txt\"\n",
    "r = http.request(\"GET\", VSTOXX_URL)\n",
    "raw_data = r.data.decode(\"utf-8\")\n",
    "_data = raw_data.split(\"\\n\") # Splitting into separate lines.\n",
    "_data = [row.split(\";\") for row in _data] # Splitting each line into columns\n",
    "_columns = _data[0] # The first row holds the names for the data frame columns\n",
    "_data = [{\"Date\": parse(\"-\".join(row[0].split(\".\")), dayfirst=True),\n",
    "          \"Indexvalue\": float(row[2])}\n",
    "         for row in _data[1:-1]]  # Process each row into a dict, creating timestamps and floating values.\n",
    "print(\"There are {} rows in the data\".format(len(_data)))\n",
    "v2tx_df = pd.DataFrame(_data)\n",
    "v2tx_df.set_index(v2tx_df.columns[0], inplace=True, verify_integrity=True) # Converting to a time indexed dataframe with one column\n",
    "v2tx_df.tail()"
   ]
  },
  {
   "cell_type": "markdown",
   "metadata": {},
   "source": [
    "The historical time series for the VSTOXX data is shown below.  As with the Quandl data we now have a time series that we can apply modeling techniques to."
   ]
  },
  {
   "cell_type": "code",
   "execution_count": 13,
   "metadata": {},
   "outputs": [
    {
     "data": {
      "image/png": "[encoded data removed]",
      "text/plain": [
       "<matplotlib.figure.Figure at 0x1237ff518>"
      ]
     },
     "metadata": {},
     "output_type": "display_data"
    }
   ],
   "source": [
    "v2tx_df[\"Indexvalue\"].plot(figsize=(12,5), title=\"VSTOXX Historical Data\");"
   ]
  },
  {
   "cell_type": "markdown",
   "metadata": {},
   "source": [
    "## [US Energy Information Administration](https://www.eia.gov/)\n",
    "The US Energy Information Administration (EIA) provides open data related to energy production and use for electricity, petroleum, and natural gas.  They provide a REST API that can be queried for this data, with documentation at https://www.eia.gov/opendata/commands.php.  A free API Key is required and can be obtained from EIA.\n",
    "\n",
    "### Example: Oil Production in Algeria\n",
    "\n",
    "The query URL for EIA is of the form `http://api.eia.gov/series/?api_key=API_KEY&series_id=SERIES_ID`.  To find the series ID for the country of interest, go to https://www.eia.gov/totalenergy/data/browser/?tbl=T11.01A#/?f=M&start=197301&end=201507&charted=12 and select the country desired.  The next page will include the data.  \n",
    "\n",
    "The returned result is a bytes object which encapsulates a string which in turn encapsulates a dict structure.  The code below pulls the data and converts it to a dict."
   ]
  },
  {
   "cell_type": "code",
   "execution_count": 34,
   "metadata": {},
   "outputs": [
    {
     "name": "stdout",
     "output_type": "stream",
     "text": [
      "dict_keys(['request', 'series'])\n"
     ]
    }
   ],
   "source": [
    "eia_key = api_key_dict[\"eia\"]\n",
    "EIA_URL = \"http://api.eia.gov\"\n",
    "series_id = \"TOTAL.PAPRPAG.M\"\n",
    "query_url = EIA_URL + \"/series/?api_key={}&series_id={}\".format(eia_key, series_id)\n",
    "r = http.request(\"GET\", query_url)\n",
    "raw_data = eval(r.data.decode()) # Decode turns bytes to string, eval converts to dict\n",
    "print(raw_data.keys())"
   ]
  },
  {
   "cell_type": "markdown",
   "metadata": {},
   "source": [
    "The data of interest is in the `series` field, which is a list of one item, which is itself a dict.  Let's look at the structure:"
   ]
  },
  {
   "cell_type": "code",
   "execution_count": 71,
   "metadata": {},
   "outputs": [
    {
     "name": "stdout",
     "output_type": "stream",
     "text": [
      "dict_keys(['series_id', 'units', 'start', 'updated', 'data', 'name', 'end', 'f'])\n"
     ]
    }
   ],
   "source": [
    "_data = raw_data[\"series\"][0]\n",
    "print(_data.keys())"
   ]
  },
  {
   "cell_type": "markdown",
   "metadata": {},
   "source": [
    "The time series data is contained in the `data` element.  Other fields provide metadata such as start and end dates, frequency, and units.  For our data, it looks like this:"
   ]
  },
  {
   "cell_type": "code",
   "execution_count": 72,
   "metadata": {},
   "outputs": [
    {
     "name": "stdout",
     "output_type": "stream",
     "text": [
      "[['201812', 1242], ['201811', 1242], ['201810', 1242], ['201809', 1242]]\n",
      "Thousand Barrels per Day\n",
      "M\n"
     ]
    }
   ],
   "source": [
    "print(_data[\"data\"][:4]) # Last 4 data items\n",
    "print(_data[\"units\"]) # Units of measure\n",
    "print(_data[\"f\"]) # Frequency, M = monthly"
   ]
  },
  {
   "cell_type": "markdown",
   "metadata": {},
   "source": [
    "Individual data points for this series are of the format YYYYMM and newest elements are earliest in the list.  We will need to convert the string to dates."
   ]
  },
  {
   "cell_type": "code",
   "execution_count": 73,
   "metadata": {},
   "outputs": [
    {
     "data": {
      "text/plain": [
       "1973-01-01    1142.0\n",
       "1973-02-01    1142.0\n",
       "1973-03-01    1142.0\n",
       "1973-04-01    1142.0\n",
       "1973-05-01    1153.0\n",
       "dtype: float64"
      ]
     },
     "execution_count": 73,
     "metadata": {},
     "output_type": "execute_result"
    }
   ],
   "source": [
    "_data = _data[\"data\"]\n",
    "_data =[(parse(x[0]+\"01\"), x[1]) for x in _data]\n",
    "_ser = pd.Series([x[1] for x in _data], index=[x[0] for x in _data])\n",
    "_ser = _ser.sort_index(ascending=True) # Underlying data is in reverse time order, so we need to sort.\n",
    "_ser.head()"
   ]
  },
  {
   "cell_type": "markdown",
   "metadata": {},
   "source": [
    "After processing the data the monthly production series is shown below."
   ]
  },
  {
   "cell_type": "code",
   "execution_count": 69,
   "metadata": {},
   "outputs": [
    {
     "data": {
      "image/png": "[encoded data removed]",
      "text/plain": [
       "<matplotlib.figure.Figure at 0x1233223c8>"
      ]
     },
     "metadata": {},
     "output_type": "display_data"
    }
   ],
   "source": [
    "_ser.plot(figsize=(12,5), title=\"Oil Production, Algeria, Thousands of Barrels Per Day, Monthly\");"
   ]
  },
  {
   "cell_type": "markdown",
   "metadata": {},
   "source": [
    "## [eurostat](https://ec.europa.eu)\n",
    "\n",
    "eurostat provides a great deal of statistical information about the countries of the European Union.  It provides a REST API which is documented at https://ec.europa.eu/eurostat/web/json-and-unicode-web-services/about-this-service.\n",
    "\n",
    "### Example: Austrian Unemployment Data from eurostat\n",
    "The example below will illustrate building a query, using `urllib3` to send the request, and processing the JSON return.  Each dataset has an identifier which can be found be browsing https://ec.europa.eu/eurostat/data/database.  For the unemployment data this is \"teilm020\".   The `geo` field is used to identify which countries are to be queried.  The best way to find those codes is to use their [query builder](https://ec.europa.eu/eurostat/web/json-and-unicode-web-services/getting-started/query-builder) and make a few selections to look at the resulting queries.  The code for Austria is \"AT\".  Putting it together:"
   ]
  },
  {
   "cell_type": "code",
   "execution_count": 135,
   "metadata": {},
   "outputs": [
    {
     "name": "stdout",
     "output_type": "stream",
     "text": [
      "Our query URL is http://ec.europa.eu/eurostat/wdds/rest/data/v2.1/json/en/teilm020?precision=1&geo=AT\n",
      "{\"version\":\"2.0\",\"label\":\"Harmonised unemployment rate by sex\",\"href\":\"http://ec.europa.eu/eurostat/wdds/rest/data/v2.1/json/en/teilm020?precision=1&geo=AT\",\"source\":\"Eurostat\",\"updated\":\"2019-04-02\",\"status\":{\"11\":\":\",\"23\":\":\",\"35\":\":\"},\"extension\":{\"datasetId\":\"teilm020\",\"lang\":\"EN\",\"description\":\"The unemployment rate represents unemployed persons as a percentage of the labour force based on International Labour Office (ILO) definition. The labour force is the total number of people employed and unemployed. Unemployed persons comprise persons aged 15 to 74 who:<br />- are without work during the reference week; <br />- are available to start work within the next two weeks; <br />- and have been actively seeking work in the past four weeks or had already found a job to start within the next three months. <br />Data are presented in seasonally adjusted form.\",\"subTitle\":null,\"status\":{\"label\":{\":\":\"not available\"}}},\"class\":\"dataset\",\"value\":{\"0\":4.6,\"1\":4.5,\"2\":4.5,\"3\":4.8,\"4\":5.1,\"5\":4.8,\"6\":4.4,\"7\":4.3,\"8\":4.5,\"9\":4.6,\"10\":4.8,\"12\":4.9,\"13\":4.8,\"14\":4.9,\"15\":5.0,\"16\":4.7,\"17\":5.0,\"18\":5.1,\"19\":4.9,\"20\":4.8,\"21\":5.0,\"22\":5.1,\"24\":4.8,\"25\":4.6,\"26\":4.8,\"27\":4.9,\"28\":4.9,\"29\":4.9,\"30\":4.8,\"31\":4.6,\"32\":4.6,\"33\":4.8,\"34\":5.0},\"dimension\":{\"s_adj\":{\"label\":\"s_adj\",\"category\":{\"index\":{\"SA\":0},\"label\":{\"SA\":\"Seasonally adjusted data, not calendar adjusted data\"}}},\"age\":{\"label\":\"age\",\"category\":{\"index\":{\"TOTAL\":0},\"label\":{\"TOTAL\":\"Total\"}}},\"sex\":{\"label\":\"sex\",\"category\":{\"index\":{\"F\":0,\"M\":1,\"T\":2},\"label\":{\"F\":\"Females\",\"M\":\"Males\",\"T\":\"Total\"}}},\"unit\":{\"label\":\"unit\",\"category\":{\"index\":{\"PC_ACT\":0},\"label\":{\"PC_ACT\":\"Percentage of active population\"}}},\"geo\":{\"label\":\"geo\",\"category\":{\"index\":{\"AT\":0},\"label\":{\"AT\":\"Austria\"}}},\"time\":{\"label\":\"time\",\"category\":{\"index\":{\"2018M04\":0,\"2018M05\":1,\"2018M06\":2,\"2018M07\":3,\"2018M08\":4,\"2018M09\":5,\"2018M10\":6,\"2018M11\":7,\"2018M12\":8,\"2019M01\":9,\"2019M02\":10,\"2019M03\":11},\"label\":{\"2018M04\":\"2018M04\",\"2018M05\":\"2018M05\",\"2018M06\":\"2018M06\",\"2018M07\":\"2018M07\",\"2018M08\":\"2018M08\",\"2018M09\":\"2018M09\",\"2018M10\":\"2018M10\",\"2018M11\":\"2018M11\",\"2018M12\":\"2018M12\",\"2019M01\":\"2019M01\",\"2019M02\":\"2019M02\",\"2019M03\":\"2019M03\"}}}},\"id\":[\"s_adj\",\"age\",\"sex\",\"unit\",\"geo\",\"time\"],\"size\":[1,1,3,1,1,12]}\n"
     ]
    }
   ],
   "source": [
    "EUROSTAT_URL_BASE = \"http://ec.europa.eu/eurostat/wdds/rest/data/v2.1/json/en/\"\n",
    "DATASET_ID = \"teilm020\"\n",
    "PRECISION_FILLER = \"?precision=1\"\n",
    "GEO_ID = \"AT\"\n",
    "query_url = EUROSTAT_URL_BASE + DATASET_ID + PRECISION_FILLER + \"&geo={}\".format(GEO_ID)\n",
    "print(\"Our query URL is {}\".format(query_url))\n",
    "r = http.request(\"GET\", query_url)\n",
    "raw_data = r.data.decode()  # This produces a bytes object, we need to decode it to a string\n",
    "print(raw_data)"
   ]
  },
  {
   "cell_type": "markdown",
   "metadata": {},
   "source": [
    "With the EIA data above we just used the `eval` command to turn the string into a dict.  Let's try it below...."
   ]
  },
  {
   "cell_type": "code",
   "execution_count": 137,
   "metadata": {},
   "outputs": [
    {
     "ename": "NameError",
     "evalue": "name 'null' is not defined",
     "output_type": "error",
     "traceback": [
      "\u001b[0;31m---------------------------------------------------------------------------\u001b[0m",
      "\u001b[0;31mNameError\u001b[0m                                 Traceback (most recent call last)",
      "\u001b[0;32m<ipython-input-137-e4c5d5286b43>\u001b[0m in \u001b[0;36m<module>\u001b[0;34m()\u001b[0m\n\u001b[0;32m----> 1\u001b[0;31m \u001b[0meval\u001b[0m\u001b[0;34m(\u001b[0m\u001b[0mraw_data\u001b[0m\u001b[0;34m)\u001b[0m\u001b[0;34m\u001b[0m\u001b[0m\n\u001b[0m",
      "\u001b[0;32m<string>\u001b[0m in \u001b[0;36m<module>\u001b[0;34m()\u001b[0m\n",
      "\u001b[0;31mNameError\u001b[0m: name 'null' is not defined"
     ]
    }
   ],
   "source": [
    "eval(raw_data)"
   ]
  },
  {
   "cell_type": "markdown",
   "metadata": {},
   "source": [
    "That doesn't work.  The problem is a value of `null` for subTitle that isn't enclosed in quotes, so Python doesn't know what to do with it.  Let's try to fix it using a regex string substitution:"
   ]
  },
  {
   "cell_type": "code",
   "execution_count": 139,
   "metadata": {},
   "outputs": [
    {
     "name": "stdout",
     "output_type": "stream",
     "text": [
      "{'class': 'dataset',\n",
      " 'dimension': {'age': {'category': {'index': {'TOTAL': 0},\n",
      "                                    'label': {'TOTAL': 'Total'}},\n",
      "                       'label': 'age'},\n",
      "               'geo': {'category': {'index': {'AT': 0},\n",
      "                                    'label': {'AT': 'Austria'}},\n",
      "                       'label': 'geo'},\n",
      "               's_adj': {'category': {'index': {'SA': 0},\n",
      "                                      'label': {'SA': 'Seasonally adjusted '\n",
      "                                                      'data, not calendar '\n",
      "                                                      'adjusted data'}},\n",
      "                         'label': 's_adj'},\n",
      "               'sex': {'category': {'index': {'F': 0, 'M': 1, 'T': 2},\n",
      "                                    'label': {'F': 'Females',\n",
      "                                              'M': 'Males',\n",
      "                                              'T': 'Total'}},\n",
      "                       'label': 'sex'},\n",
      "               'time': {'category': {'index': {'2018M04': 0,\n",
      "                                               '2018M05': 1,\n",
      "                                               '2018M06': 2,\n",
      "                                               '2018M07': 3,\n",
      "                                               '2018M08': 4,\n",
      "                                               '2018M09': 5,\n",
      "                                               '2018M10': 6,\n",
      "                                               '2018M11': 7,\n",
      "                                               '2018M12': 8,\n",
      "                                               '2019M01': 9,\n",
      "                                               '2019M02': 10,\n",
      "                                               '2019M03': 11},\n",
      "                                     'label': {'2018M04': '2018M04',\n",
      "                                               '2018M05': '2018M05',\n",
      "                                               '2018M06': '2018M06',\n",
      "                                               '2018M07': '2018M07',\n",
      "                                               '2018M08': '2018M08',\n",
      "                                               '2018M09': '2018M09',\n",
      "                                               '2018M10': '2018M10',\n",
      "                                               '2018M11': '2018M11',\n",
      "                                               '2018M12': '2018M12',\n",
      "                                               '2019M01': '2019M01',\n",
      "                                               '2019M02': '2019M02',\n",
      "                                               '2019M03': '2019M03'}},\n",
      "                        'label': 'time'},\n",
      "               'unit': {'category': {'index': {'PC_ACT': 0},\n",
      "                                     'label': {'PC_ACT': 'Percentage of active '\n",
      "                                                         'population'}},\n",
      "                        'label': 'unit'}},\n",
      " 'extension': {'datasetId': 'teilm020',\n",
      "               'description': 'The unemployment rate represents unemployed '\n",
      "                              'persons as a percentage of the labour force '\n",
      "                              'based on International Labour Office (ILO) '\n",
      "                              'definition. The labour force is the total '\n",
      "                              'number of people employed and unemployed. '\n",
      "                              'Unemployed persons comprise persons aged 15 to '\n",
      "                              '74 who:<br />- are without work during the '\n",
      "                              'reference week; <br />- are available to start '\n",
      "                              'work within the next two weeks; <br />- and '\n",
      "                              'have been actively seeking work in the past '\n",
      "                              'four weeks or had already found a job to start '\n",
      "                              'within the next three months. <br />Data are '\n",
      "                              'presented in seasonally adjusted form.',\n",
      "               'lang': 'EN',\n",
      "               'status': {'label': {':': 'not available'}},\n",
      "               'subTitle': 'null'},\n",
      " 'href': 'http://ec.europa.eu/eurostat/wdds/rest/data/v2.1/json/en/teilm020?precision=1&geo=AT',\n",
      " 'id': ['s_adj', 'age', 'sex', 'unit', 'geo', 'time'],\n",
      " 'label': 'Harmonised unemployment rate by sex',\n",
      " 'size': [1, 1, 3, 1, 1, 12],\n",
      " 'source': 'Eurostat',\n",
      " 'status': {'11': ':', '23': ':', '35': ':'},\n",
      " 'updated': '2019-04-02',\n",
      " 'value': {'0': 4.6,\n",
      "           '1': 4.5,\n",
      "           '10': 4.8,\n",
      "           '12': 4.9,\n",
      "           '13': 4.8,\n",
      "           '14': 4.9,\n",
      "           '15': 5.0,\n",
      "           '16': 4.7,\n",
      "           '17': 5.0,\n",
      "           '18': 5.1,\n",
      "           '19': 4.9,\n",
      "           '2': 4.5,\n",
      "           '20': 4.8,\n",
      "           '21': 5.0,\n",
      "           '22': 5.1,\n",
      "           '24': 4.8,\n",
      "           '25': 4.6,\n",
      "           '26': 4.8,\n",
      "           '27': 4.9,\n",
      "           '28': 4.9,\n",
      "           '29': 4.9,\n",
      "           '3': 4.8,\n",
      "           '30': 4.8,\n",
      "           '31': 4.6,\n",
      "           '32': 4.6,\n",
      "           '33': 4.8,\n",
      "           '34': 5.0,\n",
      "           '4': 5.1,\n",
      "           '5': 4.8,\n",
      "           '6': 4.4,\n",
      "           '7': 4.3,\n",
      "           '8': 4.5,\n",
      "           '9': 4.6},\n",
      " 'version': '2.0'}\n"
     ]
    }
   ],
   "source": [
    "raw_data = re.sub(\"null\", \"\\\"null\\\"\", raw_data)\n",
    "_data = eval(raw_data)\n",
    "pprint(_data)"
   ]
  },
  {
   "cell_type": "markdown",
   "metadata": {},
   "source": [
    "It's a bit confusing.  The elements of the `value` field look like the numbers that we want but there seem to be too many of them, considering that our time index only has 12 entries.  The reason for this can be found in the `category` field where we see that the data is broken out by females, males, and total.  Articulating the values to categories is non-intuitive.  I had to look at the [eurostat table layout for this data](https://ec.europa.eu/eurostat/data/database?p_p_id=NavTreeportletprod_WAR_NavTreeportletprod_INSTANCE_nPqeVbPXRmWQ&p_p_lifecycle=0&p_p_state=normal&p_p_mode=view&p_p_col_id=column-2&p_p_col_pos=1&p_p_col_count=2) in order to figure out which values correspond to which categories.  The values with indices 0 through 11 belong to the females, 12 through 23 to males, 24 to 35 for total.  Notice that there are no values given for indices 11, 23, or 35.  An inspection of the table layout shows that at the time I accessed the data the last month was missing.  OK, armed with this knowledge, let's try to make a data frame out of this data.  First, we need to convert the string formatted integer keys in the `value` field to actual integers:"
   ]
  },
  {
   "cell_type": "code",
   "execution_count": 143,
   "metadata": {},
   "outputs": [],
   "source": [
    "_values = _data[\"value\"]\n",
    "_values = {int(k):v for k,v in _values.items()} # Keys are now integers"
   ]
  },
  {
   "cell_type": "markdown",
   "metadata": {},
   "source": [
    "Now we need to insert \"NA\" values for missing elements.  To identify which items are missing we need to figure out how many we have.  That's the product of the number of categories and the length of the index.  Thankfully, the data has a `size` field that tells us the number of items along each dimension.  We just need to multiply so see how many we have:"
   ]
  },
  {
   "cell_type": "code",
   "execution_count": 151,
   "metadata": {},
   "outputs": [
    {
     "name": "stdout",
     "output_type": "stream",
     "text": [
      "There should be 36 values.\n"
     ]
    }
   ],
   "source": [
    "dim = _data[\"size\"]\n",
    "prod = 1\n",
    "for d in dim:\n",
    "    prod = prod*d\n",
    "print(\"There should be {} values.\".format(prod))"
   ]
  },
  {
   "cell_type": "markdown",
   "metadata": {},
   "source": [
    "Lets put placeholders in our `_values` dict and convert to a pandas Series"
   ]
  },
  {
   "cell_type": "code",
   "execution_count": 154,
   "metadata": {},
   "outputs": [],
   "source": [
    "for k in range(prod):\n",
    "    if k not in _values.keys():\n",
    "        _values[k] = np.nan\n",
    "value_ser = pd.Series(_values)"
   ]
  },
  {
   "cell_type": "markdown",
   "metadata": {},
   "source": [
    "We are going to create a tidy dataframe with variables in columns and each row representing a record.  Our dataframe will look something like:\n",
    "\n",
    "    time    gender    value\n",
    "0   2018M04    F        4.6\n",
    "\n",
    "...\n",
    "\n",
    "12  2018M04    M        4.9\n",
    "\n",
    "...\n",
    "\n",
    "34  2019M02    T        5.0\n",
    "\n",
    "35  2019M03    T        NaN\n",
    "\n",
    "The time column will just be the time index, repeated.  We'll grab the length of the time index for later use."
   ]
  },
  {
   "cell_type": "code",
   "execution_count": 161,
   "metadata": {},
   "outputs": [],
   "source": [
    "time_index = sorted(list(_data[\"dimension\"][\"time\"][\"category\"][\"index\"].keys()))\n",
    "n_periods = len(time_index)\n",
    "time_index = 3*time_index\n",
    "time_index_ser = pd.Series(time_index)"
   ]
  },
  {
   "cell_type": "markdown",
   "metadata": {},
   "source": [
    "The Gender column will be 12 \"F\", 12 \"M\", 12 \"T\"  We could pull it out programmatically by parsing the fields and sorting them but it's easy enough to hard code:"
   ]
  },
  {
   "cell_type": "code",
   "execution_count": 163,
   "metadata": {},
   "outputs": [],
   "source": [
    "genders = n_periods*[\"F\"] + n_periods*[\"M\"] + n_periods*[\"T\"]\n",
    "gender_ser = pd.Series(genders)"
   ]
  },
  {
   "cell_type": "markdown",
   "metadata": {},
   "source": [
    "Putting it all together gives us this dataframe:"
   ]
  },
  {
   "cell_type": "code",
   "execution_count": 165,
   "metadata": {},
   "outputs": [
    {
     "data": {
      "text/html": [
       "<div>\n",
       "<style>\n",
       "    .dataframe thead tr:only-child th {\n",
       "        text-align: right;\n",
       "    }\n",
       "\n",
       "    .dataframe thead th {\n",
       "        text-align: left;\n",
       "    }\n",
       "\n",
       "    .dataframe tbody tr th {\n",
       "        vertical-align: top;\n",
       "    }\n",
       "</style>\n",
       "<table border=\"1\" class=\"dataframe\">\n",
       "  <thead>\n",
       "    <tr style=\"text-align: right;\">\n",
       "      <th></th>\n",
       "      <th>gender</th>\n",
       "      <th>month</th>\n",
       "      <th>value</th>\n",
       "    </tr>\n",
       "  </thead>\n",
       "  <tbody>\n",
       "    <tr>\n",
       "      <th>0</th>\n",
       "      <td>F</td>\n",
       "      <td>2018M04</td>\n",
       "      <td>4.6</td>\n",
       "    </tr>\n",
       "    <tr>\n",
       "      <th>1</th>\n",
       "      <td>F</td>\n",
       "      <td>2018M05</td>\n",
       "      <td>4.5</td>\n",
       "    </tr>\n",
       "    <tr>\n",
       "      <th>2</th>\n",
       "      <td>F</td>\n",
       "      <td>2018M06</td>\n",
       "      <td>4.5</td>\n",
       "    </tr>\n",
       "    <tr>\n",
       "      <th>3</th>\n",
       "      <td>F</td>\n",
       "      <td>2018M07</td>\n",
       "      <td>4.8</td>\n",
       "    </tr>\n",
       "    <tr>\n",
       "      <th>4</th>\n",
       "      <td>F</td>\n",
       "      <td>2018M08</td>\n",
       "      <td>5.1</td>\n",
       "    </tr>\n",
       "  </tbody>\n",
       "</table>\n",
       "</div>"
      ],
      "text/plain": [
       "  gender    month  value\n",
       "0      F  2018M04    4.6\n",
       "1      F  2018M05    4.5\n",
       "2      F  2018M06    4.5\n",
       "3      F  2018M07    4.8\n",
       "4      F  2018M08    5.1"
      ]
     },
     "execution_count": 165,
     "metadata": {},
     "output_type": "execute_result"
    }
   ],
   "source": [
    "eurostat_df = pd.DataFrame({\"month\": time_index_ser,\n",
    "                            \"gender\": gender_ser,\n",
    "                            \"value\": value_ser})\n",
    "eurostat_df.head()"
   ]
  },
  {
   "cell_type": "markdown",
   "metadata": {},
   "source": [
    "Suppose that we want to plot the trend in total unemployment.  We could parse the month column to get timestamps but we can see what we want without doing so:"
   ]
  },
  {
   "cell_type": "code",
   "execution_count": 175,
   "metadata": {},
   "outputs": [
    {
     "data": {
      "image/png": "[encoded data removed]",
      "text/plain": [
       "<matplotlib.figure.Figure at 0x1240cad30>"
      ]
     },
     "metadata": {},
     "output_type": "display_data"
    }
   ],
   "source": [
    "total_df = eurostat_df[eurostat_df.gender==\"T\"]\n",
    "total_df[\"value\"].plot(title=\"Total Unemployment Trend, Austria, Percent\",\n",
    "                       figsize=(12,5), drawstyle=\"steps-post\");"
   ]
  },
  {
   "cell_type": "markdown",
   "metadata": {},
   "source": [
    "## USGS Earthquake Data\n",
    "In the first GF Challenge there were some IFPs for forecasting the number of earthquakes of a certain magnitude during a certain interval.  USGS does provide a [REST API](https://earthquake.usgs.gov/fdsnws/event/1/) that will respond to queries like this and will provide output in a number of formats such as KML or GeoJSON.\n",
    "\n",
    "### Example: Earthquake Counts Magnitude 5 or Higher\n",
    "The example below constructs a query for the number of worldwide earthquakes magnitude 5 or higher between March 1 and March 31, 2019, worldwide:"
   ]
  },
  {
   "cell_type": "code",
   "execution_count": 189,
   "metadata": {},
   "outputs": [
    {
     "name": "stdout",
     "output_type": "stream",
     "text": [
      "Our query URL is https://earthquake.usgs.gov/fdsnws/event/1/count?format=geojson&starttime=2019-03-01&endtime=2019-03-31&minmagnitude=5\n"
     ]
    },
    {
     "name": "stderr",
     "output_type": "stream",
     "text": [
      "/Users/peterhaglich/anaconda/envs/hfc/lib/python3.5/site-packages/urllib3/connectionpool.py:858: InsecureRequestWarning: Unverified HTTPS request is being made. Adding certificate verification is strongly advised. See: https://urllib3.readthedocs.io/en/latest/advanced-usage.html#ssl-warnings\n",
      "  InsecureRequestWarning)\n"
     ]
    },
    {
     "name": "stdout",
     "output_type": "stream",
     "text": [
      "{\"count\":125,\"maxAllowed\":20000}\n"
     ]
    }
   ],
   "source": [
    "#query_url = EUROSTAT_URL_BASE + DATASET_ID + PRECISION_FILLER + \"&geo={}\".format(GEO_ID)\n",
    "query_url_base = \"https://earthquake.usgs.gov/fdsnws/event/1/count\"\n",
    "return_format = \"geojson\"\n",
    "starttime = \"2019-03-01\"  # YYYY-MM-DD\n",
    "endtime = \"2019-03-31\"\n",
    "min_magnitude = 5\n",
    "query_url = query_url_base + \"?format={}&starttime={}&endtime={}&minmagnitude={}\".format(return_format, starttime, endtime, min_magnitude)\n",
    "print(\"Our query URL is {}\".format(query_url))\n",
    "r = http.request(\"GET\", query_url)\n",
    "raw_data = r.data.decode()  # This produces a bytes object, we need to decode it to a string\n",
    "print(raw_data)"
   ]
  },
  {
   "cell_type": "markdown",
   "metadata": {},
   "source": [
    "To convert it to a dict use the `eval` statement:"
   ]
  },
  {
   "cell_type": "code",
   "execution_count": 188,
   "metadata": {},
   "outputs": [
    {
     "name": "stdout",
     "output_type": "stream",
     "text": [
      "{'count': 125, 'maxAllowed': 20000}\n"
     ]
    }
   ],
   "source": [
    "_data = eval(raw_data)\n",
    "pprint(_data)"
   ]
  },
  {
   "cell_type": "markdown",
   "metadata": {},
   "source": [
    "Now suppose we wish to restrict our query to a specific region defined by minimum and maximum values for latitude and longitude.  We do this by specifying values for `minlatitude`, `maxlatitude`, ,`minlongitude`, `maxlongitude` and adding them to the query URL.  Let's look at a large bounding box centered on Japan."
   ]
  },
  {
   "cell_type": "code",
   "execution_count": 190,
   "metadata": {},
   "outputs": [
    {
     "name": "stdout",
     "output_type": "stream",
     "text": [
      "Our query URL is https://earthquake.usgs.gov/fdsnws/event/1/count?format=geojson&starttime=2019-03-01&endtime=2019-03-31&minmagnitude=5&minlatitude=25&maxlatitude=45&minlongitude=125&maxlongitude=155\n",
      "{\"count\":11,\"maxAllowed\":20000}\n"
     ]
    },
    {
     "name": "stderr",
     "output_type": "stream",
     "text": [
      "/Users/peterhaglich/anaconda/envs/hfc/lib/python3.5/site-packages/urllib3/connectionpool.py:858: InsecureRequestWarning: Unverified HTTPS request is being made. Adding certificate verification is strongly advised. See: https://urllib3.readthedocs.io/en/latest/advanced-usage.html#ssl-warnings\n",
      "  InsecureRequestWarning)\n"
     ]
    }
   ],
   "source": [
    "min_lat, max_lat = (25, 45)\n",
    "min_long, max_long = (125, 155)\n",
    "query_url = query_url + \"&minlatitude={}&maxlatitude={}&minlongitude={}&maxlongitude={}\".format(min_lat, max_lat, min_long, max_long)\n",
    "print(\"Our query URL is {}\".format(query_url))\n",
    "r = http.request(\"GET\", query_url)\n",
    "raw_data = r.data.decode()  # This produces a bytes object, we need to decode it to a string\n",
    "print(raw_data)"
   ]
  },
  {
   "cell_type": "markdown",
   "metadata": {},
   "source": [
    "The above is cumbersome, so we can define a function to run the query for us:"
   ]
  },
  {
   "cell_type": "code",
   "execution_count": 193,
   "metadata": {},
   "outputs": [
    {
     "name": "stderr",
     "output_type": "stream",
     "text": [
      "/Users/peterhaglich/anaconda/envs/hfc/lib/python3.5/site-packages/urllib3/connectionpool.py:858: InsecureRequestWarning: Unverified HTTPS request is being made. Adding certificate verification is strongly advised. See: https://urllib3.readthedocs.io/en/latest/advanced-usage.html#ssl-warnings\n",
      "  InsecureRequestWarning)\n"
     ]
    },
    {
     "data": {
      "text/plain": [
       "125"
      ]
     },
     "execution_count": 193,
     "metadata": {},
     "output_type": "execute_result"
    }
   ],
   "source": [
    "def get_quake_count(starttime, endtime, min_magnitude=0, bounding_box=dict()):\n",
    "    \"\"\"\n",
    "    Retrieves earthquake count\n",
    "    :param starttime: ISO 8601 Date/Time format, assumes UTC\n",
    "    :param endtime: ISO 8601 Date/Time\n",
    "    :min_magnitude: Earthquakes of this magnitude or higher.\"&minlatitude={}&maxlatitude={}&minlongitude={}&maxlongitude={}\".format(min_lat, max_lat, min_long, max_long)\n",
    "    :bounding_box: dict {\"min_lat\", \"max_lat\", \"min_long\", \"max_long\"}\n",
    "    :returns: integer count\n",
    "    \"\"\"\n",
    "    query_url_base = \"https://earthquake.usgs.gov/fdsnws/event/1/count\"\n",
    "    return_format = \"geojson\"\n",
    "    query_url = query_url_base + \"?format=geojson\"\n",
    "    query_url += \"&starttime={}&endtime={}&minmagnitude={}\".format(starttime, endtime, min_magnitude)\n",
    "    if bounding_box:\n",
    "        query_url += \"&minlatitude={}&maxlatitude={}&minlongitude={}&maxlongitude={}\".format(bounding_box[min_lat], bounding_box[max_lat],\n",
    "                                                                                             bounding_box[min_long], bounding_box[max_long])\n",
    "    r = http.request(\"GET\", query_url)\n",
    "    raw_data = r.data.decode()  # This produces a bytes object, we need to decode it to a string\n",
    "    _data = eval(raw_data)\n",
    "    return _data[\"count\"]\n",
    " \n",
    "\n",
    "get_quake_count(\"2019-03-01\", \"2019-03-31\", 5)"
   ]
  },
  {
   "cell_type": "markdown",
   "metadata": {},
   "source": [
    "Just for fun, let's look at the count of earthquakes by minimum magnitude for every .1 magnitude from 0 to 10.  I'll add a statement to repress the 100 warning messages regarding making requests of HTTPS without certificate verification."
   ]
  },
  {
   "cell_type": "code",
   "execution_count": 203,
   "metadata": {},
   "outputs": [],
   "source": [
    "with warnings.catch_warnings():\n",
    "    warnings.simplefilter(\"ignore\")\n",
    "    m_values = [m/10 for m in range(101)]\n",
    "    count_dict = {m: get_quake_count(starttime=\"2019-03-01\", endtime=\"2019-03-31\", min_magnitude=m)\n",
    "                 for m in m_values}"
   ]
  },
  {
   "cell_type": "markdown",
   "metadata": {},
   "source": [
    "The chart below shows the survival plot of earthquakes by magnitude, with the count on a logarithmic scale."
   ]
  },
  {
   "cell_type": "code",
   "execution_count": 204,
   "metadata": {},
   "outputs": [
    {
     "data": {
      "image/png": "[encoded data removed]",
      "text/plain": [
       "<matplotlib.figure.Figure at 0x124185c18>"
      ]
     },
     "metadata": {},
     "output_type": "display_data"
    }
   ],
   "source": [
    "count_ser = pd.Series(count_dict)\n",
    "count_ser.plot(figsize=(12,5), title=\"Earthquakes by magnitude, March 2019\", logy=True);"
   ]
  },
  {
   "cell_type": "markdown",
   "metadata": {},
   "source": [
    "## ACLED\n",
    "Armed Conflict Location & Event Data Project (ACLED); acleddata.com\n",
    "\n",
    "ACLED provides an API that is documented at https://www.acleddata.com/wp-content/uploads/dlm_uploads/2017/10/API-User-Guide.pdf.\n",
    "\n",
    "ACLED queries return JSON by default but the user can specify other formats, such as CSV.\n",
    "\n",
    "### Example: ACLED Battle Deaths in Yemen\n",
    "In this example we will retrieve the battle deaths in Yemen for March 2019.  Every query must include the query parameter `terms=accept`.  Other query terms act as filters on what is searched and what is returned.  In our case we will set the country to Yemen, the event_type to Battle, and the dates to the range for March 2019."
   ]
  },
  {
   "cell_type": "code",
   "execution_count": 249,
   "metadata": {},
   "outputs": [
    {
     "name": "stdout",
     "output_type": "stream",
     "text": [
      "Query URL: https://api.acleddata.com/acled/read?terms=accept&country=yemen&event_type=battle&event_date=2019-03-01|2019-03-31&event_date_where=BETWEEN&field=iso|fatalities\n"
     ]
    }
   ],
   "source": [
    "acled_url = \"https://api.acleddata.com/acled/read?terms=accept\"\n",
    "starttime = \"2019-03-01\"\n",
    "endtime = \"2019-03-31\"\n",
    "country = \"yemen\"\n",
    "event_type = \"battle\"\n",
    "query_url = acled_url + \"&country={}\".format(country)\n",
    "query_url += \"&event_type={}\".format(event_type)\n",
    "query_url += \"&event_date={}|{}&event_date_where=BETWEEN\".format(starttime, endtime)\n",
    "query_url += \"&field=iso|fatalities\"\n",
    "#query_url += \"&export_type=csv\"\n",
    "print(\"Query URL: {}\".format(query_url))\n",
    "with warnings.catch_warnings():\n",
    "    warnings.simplefilter(\"ignore\")\n",
    "    r = http.request(\"GET\", query_url)\n",
    "raw_data = r.data.decode()"
   ]
  },
  {
   "cell_type": "markdown",
   "metadata": {},
   "source": [
    "We can try to use the eval command to convert the raw_data to a dict, but...."
   ]
  },
  {
   "cell_type": "code",
   "execution_count": 250,
   "metadata": {},
   "outputs": [
    {
     "ename": "NameError",
     "evalue": "name 'true' is not defined",
     "output_type": "error",
     "traceback": [
      "\u001b[0;31m---------------------------------------------------------------------------\u001b[0m",
      "\u001b[0;31mNameError\u001b[0m                                 Traceback (most recent call last)",
      "\u001b[0;32m<ipython-input-250-77a3c5a238b1>\u001b[0m in \u001b[0;36m<module>\u001b[0;34m()\u001b[0m\n\u001b[0;32m----> 1\u001b[0;31m \u001b[0m_data\u001b[0m \u001b[0;34m=\u001b[0m \u001b[0meval\u001b[0m\u001b[0;34m(\u001b[0m\u001b[0mraw_data\u001b[0m\u001b[0;34m)\u001b[0m\u001b[0;34m\u001b[0m\u001b[0m\n\u001b[0m\u001b[1;32m      2\u001b[0m \u001b[0m_data\u001b[0m\u001b[0;34m.\u001b[0m\u001b[0mkeys\u001b[0m\u001b[0;34m(\u001b[0m\u001b[0;34m)\u001b[0m\u001b[0;34m\u001b[0m\u001b[0m\n",
      "\u001b[0;32m<string>\u001b[0m in \u001b[0;36m<module>\u001b[0;34m()\u001b[0m\n",
      "\u001b[0;31mNameError\u001b[0m: name 'true' is not defined"
     ]
    }
   ],
   "source": [
    "_data = eval(raw_data)\n",
    "_data.keys()"
   ]
  },
  {
   "cell_type": "markdown",
   "metadata": {},
   "source": [
    "As with the EIA data we have some values that cause a problem for `eval`.  Let's use regex to fix them"
   ]
  },
  {
   "cell_type": "code",
   "execution_count": 251,
   "metadata": {},
   "outputs": [
    {
     "data": {
      "text/plain": [
       "dict_keys(['data', 'success', 'status', 'count', 'last_update', 'filename'])"
      ]
     },
     "execution_count": 251,
     "metadata": {},
     "output_type": "execute_result"
    }
   ],
   "source": [
    "raw_data = re.sub(\"true\", \"\\\"true\\\"\", raw_data)\n",
    "_data = eval(raw_data)\n",
    "_data.keys()"
   ]
  },
  {
   "cell_type": "markdown",
   "metadata": {},
   "source": [
    "The data that we want is in the field helpfully named `data` and contains a list of dicts, each of which describes an event.  Let's look at an example:"
   ]
  },
  {
   "cell_type": "code",
   "execution_count": 252,
   "metadata": {},
   "outputs": [
    {
     "name": "stdout",
     "output_type": "stream",
     "text": [
      "{'actor1': 'Military Forces of Yemen (2016-) Supreme Political Council',\n",
      " 'actor2': 'National Resistance Forces',\n",
      " 'admin1': 'Al Hudaydah',\n",
      " 'admin2': 'At Tuhayat',\n",
      " 'admin3': '',\n",
      " 'assoc_actor_1': '',\n",
      " 'assoc_actor_2': 'Giants Brigade',\n",
      " 'country': 'Yemen',\n",
      " 'data_id': '5121681',\n",
      " 'event_date': '2019-03-31',\n",
      " 'event_id_cnty': 'YEM30120',\n",
      " 'event_id_no_cnty': '30120',\n",
      " 'event_type': 'Battles',\n",
      " 'fatalities': '0',\n",
      " 'geo_precision': '2',\n",
      " 'inter1': '1',\n",
      " 'inter2': '3',\n",
      " 'interaction': '13',\n",
      " 'iso': '887',\n",
      " 'iso3': 'YEM',\n",
      " 'latitude': '14.1836',\n",
      " 'location': 'At Tuhayta',\n",
      " 'longitude': '43.2264',\n",
      " 'notes': 'Pro-Houthi forces reportedly fired artillery and Howitzer shells, '\n",
      "          'mortars, B-10s, RPGs and snipers at anti-Houthi Giants forces in '\n",
      "          'Tuhayta district in the south of Hodeidah city, western Yemen, with '\n",
      "          'no report of fatalities nor injuries.',\n",
      " 'region': 'Middle East',\n",
      " 'source': 'Al Amaliqah',\n",
      " 'source_scale': 'National',\n",
      " 'sub_event_type': 'Armed clash',\n",
      " 'time_precision': '1',\n",
      " 'timestamp': '1554760629',\n",
      " 'year': '2019'}\n"
     ]
    }
   ],
   "source": [
    "_data = _data[\"data\"]\n",
    "pprint(_data[0])"
   ]
  },
  {
   "cell_type": "markdown",
   "metadata": {},
   "source": [
    "Let's produce a data frame from the data:"
   ]
  },
  {
   "cell_type": "code",
   "execution_count": 257,
   "metadata": {},
   "outputs": [
    {
     "data": {
      "text/html": [
       "<div>\n",
       "<style>\n",
       "    .dataframe thead tr:only-child th {\n",
       "        text-align: right;\n",
       "    }\n",
       "\n",
       "    .dataframe thead th {\n",
       "        text-align: left;\n",
       "    }\n",
       "\n",
       "    .dataframe tbody tr th {\n",
       "        vertical-align: top;\n",
       "    }\n",
       "</style>\n",
       "<table border=\"1\" class=\"dataframe\">\n",
       "  <thead>\n",
       "    <tr style=\"text-align: right;\">\n",
       "      <th></th>\n",
       "      <th>actor1</th>\n",
       "      <th>actor2</th>\n",
       "      <th>admin1</th>\n",
       "      <th>admin2</th>\n",
       "      <th>admin3</th>\n",
       "      <th>assoc_actor_1</th>\n",
       "      <th>assoc_actor_2</th>\n",
       "      <th>country</th>\n",
       "      <th>event_date</th>\n",
       "      <th>event_id_cnty</th>\n",
       "      <th>...</th>\n",
       "      <th>location</th>\n",
       "      <th>longitude</th>\n",
       "      <th>notes</th>\n",
       "      <th>region</th>\n",
       "      <th>source</th>\n",
       "      <th>source_scale</th>\n",
       "      <th>sub_event_type</th>\n",
       "      <th>time_precision</th>\n",
       "      <th>timestamp</th>\n",
       "      <th>year</th>\n",
       "    </tr>\n",
       "  </thead>\n",
       "  <tbody>\n",
       "    <tr>\n",
       "      <th>5121681</th>\n",
       "      <td>Military Forces of Yemen (2016-) Supreme Polit...</td>\n",
       "      <td>National Resistance Forces</td>\n",
       "      <td>Al Hudaydah</td>\n",
       "      <td>At Tuhayat</td>\n",
       "      <td></td>\n",
       "      <td></td>\n",
       "      <td>Giants Brigade</td>\n",
       "      <td>Yemen</td>\n",
       "      <td>2019-03-31</td>\n",
       "      <td>YEM30120</td>\n",
       "      <td>...</td>\n",
       "      <td>At Tuhayta</td>\n",
       "      <td>43.2264</td>\n",
       "      <td>Pro-Houthi forces reportedly fired artillery a...</td>\n",
       "      <td>Middle East</td>\n",
       "      <td>Al Amaliqah</td>\n",
       "      <td>National</td>\n",
       "      <td>Armed clash</td>\n",
       "      <td>1</td>\n",
       "      <td>1554760629</td>\n",
       "      <td>2019</td>\n",
       "    </tr>\n",
       "    <tr>\n",
       "      <th>5121682</th>\n",
       "      <td>National Resistance Forces</td>\n",
       "      <td>Military Forces of Yemen (2016-) Supreme Polit...</td>\n",
       "      <td>Al Hudaydah</td>\n",
       "      <td>Al Hali</td>\n",
       "      <td></td>\n",
       "      <td>Giants Brigade</td>\n",
       "      <td></td>\n",
       "      <td>Yemen</td>\n",
       "      <td>2019-03-31</td>\n",
       "      <td>YEM30119</td>\n",
       "      <td>...</td>\n",
       "      <td>Al Hudaydah-Madinat al Salah</td>\n",
       "      <td>42.9940</td>\n",
       "      <td>Anti-Houthi Giants Brigade and Guardians of th...</td>\n",
       "      <td>Middle East</td>\n",
       "      <td>Al Amaliqah</td>\n",
       "      <td>National</td>\n",
       "      <td>Armed clash</td>\n",
       "      <td>1</td>\n",
       "      <td>1554760629</td>\n",
       "      <td>2019</td>\n",
       "    </tr>\n",
       "    <tr>\n",
       "      <th>5121683</th>\n",
       "      <td>National Resistance Forces</td>\n",
       "      <td>Military Forces of Yemen (2016-) Supreme Polit...</td>\n",
       "      <td>Al Hudaydah</td>\n",
       "      <td>Al Hali</td>\n",
       "      <td></td>\n",
       "      <td>Guardians of the Republic</td>\n",
       "      <td></td>\n",
       "      <td>Yemen</td>\n",
       "      <td>2019-03-31</td>\n",
       "      <td>YEM30118</td>\n",
       "      <td>...</td>\n",
       "      <td>Al Hudaydah-Al Matahin</td>\n",
       "      <td>43.0110</td>\n",
       "      <td>Anti-Houthi Guardians of the Republic forces c...</td>\n",
       "      <td>Middle East</td>\n",
       "      <td>Khabar News Agency (Yemen)</td>\n",
       "      <td>National</td>\n",
       "      <td>Armed clash</td>\n",
       "      <td>1</td>\n",
       "      <td>1554760629</td>\n",
       "      <td>2019</td>\n",
       "    </tr>\n",
       "    <tr>\n",
       "      <th>5121684</th>\n",
       "      <td>Military Forces of Yemen (2016-) Supreme Polit...</td>\n",
       "      <td>Military Forces of Yemen (2012-)</td>\n",
       "      <td>Al Bayda</td>\n",
       "      <td>Mukayras</td>\n",
       "      <td></td>\n",
       "      <td></td>\n",
       "      <td>Militia (Pro-Government)</td>\n",
       "      <td>Yemen</td>\n",
       "      <td>2019-03-31</td>\n",
       "      <td>YEM30116</td>\n",
       "      <td>...</td>\n",
       "      <td>Mukayras</td>\n",
       "      <td>45.6707</td>\n",
       "      <td>Pro-Houthi forces claimed to have attacked pro...</td>\n",
       "      <td>Middle East</td>\n",
       "      <td>Ofq News</td>\n",
       "      <td>National</td>\n",
       "      <td>Armed clash</td>\n",
       "      <td>1</td>\n",
       "      <td>1554760629</td>\n",
       "      <td>2019</td>\n",
       "    </tr>\n",
       "    <tr>\n",
       "      <th>5121688</th>\n",
       "      <td>Bayt al Asnaj Tribal Militia (Yemen)</td>\n",
       "      <td>Bayt al Dughaysh Tribal Militia (Yemen)</td>\n",
       "      <td>Taizz</td>\n",
       "      <td>Ash Shamayatayn</td>\n",
       "      <td></td>\n",
       "      <td></td>\n",
       "      <td></td>\n",
       "      <td>Yemen</td>\n",
       "      <td>2019-03-31</td>\n",
       "      <td>YEM30131</td>\n",
       "      <td>...</td>\n",
       "      <td>As Samsarah</td>\n",
       "      <td>44.0048</td>\n",
       "      <td>Clashes between Bayt Al-Asnaj and Bayt Al-Dugh...</td>\n",
       "      <td>Middle East</td>\n",
       "      <td>Al Masdar</td>\n",
       "      <td>National</td>\n",
       "      <td>Armed clash</td>\n",
       "      <td>1</td>\n",
       "      <td>1554760629</td>\n",
       "      <td>2019</td>\n",
       "    </tr>\n",
       "  </tbody>\n",
       "</table>\n",
       "<p>5 rows × 30 columns</p>\n",
       "</div>"
      ],
      "text/plain": [
       "                                                    actor1  \\\n",
       "5121681  Military Forces of Yemen (2016-) Supreme Polit...   \n",
       "5121682                         National Resistance Forces   \n",
       "5121683                         National Resistance Forces   \n",
       "5121684  Military Forces of Yemen (2016-) Supreme Polit...   \n",
       "5121688               Bayt al Asnaj Tribal Militia (Yemen)   \n",
       "\n",
       "                                                    actor2       admin1  \\\n",
       "5121681                         National Resistance Forces  Al Hudaydah   \n",
       "5121682  Military Forces of Yemen (2016-) Supreme Polit...  Al Hudaydah   \n",
       "5121683  Military Forces of Yemen (2016-) Supreme Polit...  Al Hudaydah   \n",
       "5121684                   Military Forces of Yemen (2012-)     Al Bayda   \n",
       "5121688            Bayt al Dughaysh Tribal Militia (Yemen)        Taizz   \n",
       "\n",
       "                  admin2 admin3              assoc_actor_1  \\\n",
       "5121681       At Tuhayat                                     \n",
       "5121682          Al Hali                    Giants Brigade   \n",
       "5121683          Al Hali         Guardians of the Republic   \n",
       "5121684         Mukayras                                     \n",
       "5121688  Ash Shamayatayn                                     \n",
       "\n",
       "                    assoc_actor_2 country  event_date event_id_cnty  ...   \\\n",
       "5121681            Giants Brigade   Yemen  2019-03-31      YEM30120  ...    \n",
       "5121682                             Yemen  2019-03-31      YEM30119  ...    \n",
       "5121683                             Yemen  2019-03-31      YEM30118  ...    \n",
       "5121684  Militia (Pro-Government)   Yemen  2019-03-31      YEM30116  ...    \n",
       "5121688                             Yemen  2019-03-31      YEM30131  ...    \n",
       "\n",
       "                             location longitude  \\\n",
       "5121681                    At Tuhayta   43.2264   \n",
       "5121682  Al Hudaydah-Madinat al Salah   42.9940   \n",
       "5121683        Al Hudaydah-Al Matahin   43.0110   \n",
       "5121684                      Mukayras   45.6707   \n",
       "5121688                   As Samsarah   44.0048   \n",
       "\n",
       "                                                     notes       region  \\\n",
       "5121681  Pro-Houthi forces reportedly fired artillery a...  Middle East   \n",
       "5121682  Anti-Houthi Giants Brigade and Guardians of th...  Middle East   \n",
       "5121683  Anti-Houthi Guardians of the Republic forces c...  Middle East   \n",
       "5121684  Pro-Houthi forces claimed to have attacked pro...  Middle East   \n",
       "5121688  Clashes between Bayt Al-Asnaj and Bayt Al-Dugh...  Middle East   \n",
       "\n",
       "                             source source_scale sub_event_type  \\\n",
       "5121681                 Al Amaliqah     National    Armed clash   \n",
       "5121682                 Al Amaliqah     National    Armed clash   \n",
       "5121683  Khabar News Agency (Yemen)     National    Armed clash   \n",
       "5121684                    Ofq News     National    Armed clash   \n",
       "5121688                   Al Masdar     National    Armed clash   \n",
       "\n",
       "        time_precision   timestamp  year  \n",
       "5121681              1  1554760629  2019  \n",
       "5121682              1  1554760629  2019  \n",
       "5121683              1  1554760629  2019  \n",
       "5121684              1  1554760629  2019  \n",
       "5121688              1  1554760629  2019  \n",
       "\n",
       "[5 rows x 30 columns]"
      ]
     },
     "execution_count": 257,
     "metadata": {},
     "output_type": "execute_result"
    }
   ],
   "source": [
    "acled_df = pd.DataFrame(_data, index=[x[\"data_id\"] for x in _data])\n",
    "acled_df.drop(\"data_id\", axis=1, inplace=True)\n",
    "acled_df.head()"
   ]
  },
  {
   "cell_type": "markdown",
   "metadata": {},
   "source": [
    "Suppose we want to obtain the fatalities by day.  We can use pandas groupby to do this:"
   ]
  },
  {
   "cell_type": "code",
   "execution_count": 260,
   "metadata": {},
   "outputs": [
    {
     "data": {
      "text/plain": [
       "event_date\n",
       "2019-03-01       00101010110555\n",
       "2019-03-02    01001000000000010\n",
       "2019-03-03           0101000010\n",
       "2019-03-04         110000101010\n",
       "2019-03-05             25250252\n",
       "dtype: object"
      ]
     },
     "execution_count": 260,
     "metadata": {},
     "output_type": "execute_result"
    }
   ],
   "source": [
    "fatalities_ser = acled_df.groupby(\"event_date\").apply(lambda x: x[\"fatalities\"].sum())\n",
    "fatalities_ser.head()"
   ]
  },
  {
   "cell_type": "markdown",
   "metadata": {},
   "source": [
    "That's just wrong.  The problem is that the value in `fatalities` is a string; we need to coerce it to an int and try again.  While we're at it, we should make sure that the values for `event_date` are indeed dates"
   ]
  },
  {
   "cell_type": "code",
   "execution_count": 270,
   "metadata": {},
   "outputs": [
    {
     "data": {
      "text/plain": [
       "event_date\n",
       "2019-03-01    56\n",
       "2019-03-02    30\n",
       "2019-03-03    30\n",
       "2019-03-04    23\n",
       "2019-03-05    77\n",
       "dtype: int64"
      ]
     },
     "execution_count": 270,
     "metadata": {},
     "output_type": "execute_result"
    }
   ],
   "source": [
    "acled_df[\"fatalities\"] = acled_df[\"fatalities\"].apply(int)\n",
    "acled_df[\"event_date\"] = acled_df[\"event_date\"].apply(parse)\n",
    "fatalities_ser = acled_df.groupby(\"event_date\").apply(lambda x: x[\"fatalities\"].sum())\n",
    "fatalities_ser.head()"
   ]
  },
  {
   "cell_type": "markdown",
   "metadata": {},
   "source": [
    "And we can now plot the daily counts"
   ]
  },
  {
   "cell_type": "code",
   "execution_count": 271,
   "metadata": {},
   "outputs": [
    {
     "data": {
      "image/png": "[encoded data removed]",
      "text/plain": [
       "<matplotlib.figure.Figure at 0x1240a6080>"
      ]
     },
     "metadata": {},
     "output_type": "display_data"
    }
   ],
   "source": [
    "fatalities_ser.plot(figsize=(12,5), title=\"Daily Battle Fatalities, Yemen\");"
   ]
  },
  {
   "cell_type": "markdown",
   "metadata": {},
   "source": [
    "## Mexican Crime Statistics\n",
    "\n",
    "The Mexican Government publishes crime reports"
   ]
  }
 ],
 "metadata": {
  "kernelspec": {
   "display_name": "Python 3",
   "language": "python",
   "name": "python3"
  },
  "language_info": {
   "codemirror_mode": {
    "name": "ipython",
    "version": 3
   },
   "file_extension": ".py",
   "mimetype": "text/x-python",
   "name": "python",
   "nbconvert_exporter": "python",
   "pygments_lexer": "ipython3",
   "version": "3.5.2"
  }
 },
 "nbformat": 4,
 "nbformat_minor": 2
}
